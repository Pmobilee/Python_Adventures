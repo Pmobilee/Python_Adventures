{
 "cells": [
  {
   "cell_type": "markdown",
   "metadata": {},
   "source": [
    "# Reverse Kitty\n",
    "\n",
    "![](images/20221216195128.png)  \n",
    "\n",
    "Reverse kitty likes.. well things in reverse! Could you make him a function that takes a sentence, and reverses the words?\n",
    "\n",
    "Examples:\n",
    "```python\n",
    "reverse_words(\"the sky is blue\") ➞ \"blue is sky the\"\n",
    "reverse_words(\"  hello world!  \") ➞ \"world! hello\"\n",
    "reverse_words(\"a good   example\") ➞ \"example good a\"\n",
    "```"
   ]
  },
  {
   "cell_type": "code",
   "execution_count": 3,
   "metadata": {},
   "outputs": [],
   "source": [
    "# IGNORE THIS BUT DO RUN IT!\n",
    "\n",
    "class Test():\n",
    "    def assert_equals(one, two):\n",
    "        return one == two"
   ]
  },
  {
   "cell_type": "code",
   "execution_count": null,
   "metadata": {},
   "outputs": [],
   "source": [
    "# Work here\n",
    "def reverse_words(words):\n",
    "\t"
   ]
  },
  {
   "cell_type": "code",
   "execution_count": null,
   "metadata": {},
   "outputs": [],
   "source": [
    "# test here\n",
    "try:\n",
    "    Test.assert_equals(reverse_words(\"hello world!\"), \"world! hello\")\n",
    "    Test.assert_equals(reverse_words(\"blue is sky the\"), \"the sky is blue\")\n",
    "    Test.assert_equals(reverse_words(\"a good example\"), \"example good a\")\n",
    "    Test.assert_equals(reverse_words(\"fraud! of example another is this\"), \"this is another example of fraud!\")\n",
    "    Test.assert_equals(reverse_words(\"man! the are You\"), \"You are the man!\")\n",
    "    print(\"Passed\")\n",
    "except:\n",
    "    print(\"Failed\")\n"
   ]
  },
  {
   "cell_type": "code",
   "execution_count": 1,
   "metadata": {},
   "outputs": [],
   "source": [
    "# Example solutions\n",
    "\n",
    "def reverse_words(words):\n",
    "\ta = words.split()\n",
    "\ta.reverse()\n",
    "\treturn ' '.join(a)\n",
    "\n",
    "def reverse_words(words):\n",
    "\treturn \" \".join(words.split()[::-1])\n"
   ]
  },
  {
   "cell_type": "markdown",
   "metadata": {},
   "source": [
    "# Amazing Kitty\n",
    "\n",
    "![](images/20221216195343.png)  \n",
    "\n",
    "AmazingKitty is a local twitch chat enthousiast, making sure to keep the chat engaged and fearful of their lives. His favourite thing to do is !hug and !kiss random people. Although he's probably been annoying all night, why don't you make a function that does all the hugging for him?\n",
    "\n",
    "The function should take in a name, and then perform a !hug with 40% chance, a !kiss with 40% chance, and a random threat with 20% chance. Don't forget the @ or it won't reach the other chatters.\n",
    "\n",
    "Examples:\n",
    "```python\n",
    "amazing_function(\"nora_tries\", \"hug\") ➞ \"!hug @nora_tries\"\n",
    "amazing_function(\"nora_tries\", \"kiss\") ➞ \"!kiss @nora_tries\"\n",
    "amazing_function(\"nora_tries\", \"hug\") ➞ \"I know your social security number @nora_tries\"\n",
    "```\n",
    "\n",
    "If you want to be really daring, you could create a dictionary with usernames, and a unique threat for each of them. If the chance lands on a threat, you can then use that specific threat."
   ]
  },
  {
   "cell_type": "code",
   "execution_count": null,
   "metadata": {},
   "outputs": [],
   "source": [
    "# Work here\n",
    "def amazing_function(user, action):\n",
    "    "
   ]
  },
  {
   "cell_type": "markdown",
   "metadata": {},
   "source": [
    "# Histogram Kitty\n",
    "\n",
    "![](images/20221216200125.png)  \n",
    "\n",
    "This kitty likes.. Histograms! Where do we find these kitties?? AND HOW DO I GENERATE AN IMAGE FOR IT?? Anyway, he wants you to design a function that prints a horizontal histogram, using the characters provided.\n",
    "\n",
    "\n",
    "Examples:\n",
    "```python\n",
    "histogram([1, 3, 4], \"#\") ➞ \"#\\n###\\n####\"\n",
    "\n",
    "#       <- 1\n",
    "###     <- 3\n",
    "####    <- 4\n",
    "\n",
    "histogram([6, 2, 15, 3], \"=\") ➞ \"======\\n==\\n===============\\n===\"\n",
    "\n",
    "======\n",
    "==\n",
    "===============\n",
    "===\n",
    "\n",
    "histogram([1, 10], \"+\") ➞ \"+\\n++++++++++\"\n",
    "\n",
    "+\n",
    "++++++++++\n",
    "````"
   ]
  },
  {
   "cell_type": "code",
   "execution_count": null,
   "metadata": {},
   "outputs": [],
   "source": [
    "# Code here\n",
    "def histogram(lst, char):\n",
    "    "
   ]
  },
  {
   "cell_type": "code",
   "execution_count": null,
   "metadata": {},
   "outputs": [],
   "source": [
    "# Test here\n",
    "\n",
    "try:\n",
    "    Test.assert_equals(histogram([2,4,5,6], \"o\"), 'oo\\noooo\\nooooo\\noooooo')\n",
    "    Test.assert_equals(histogram([4,2], \"*\"), '****\\n**')\n",
    "    Test.assert_equals(histogram([20,1,12], \"H\"), 'HHHHHHHHHHHHHHHHHHHH\\nH\\nHHHHHHHHHHHH')\n",
    "    Test.assert_equals(histogram([2,1,2,4,5,2,3], \"#\"), '##\\n#\\n##\\n####\\n#####\\n##\\n###')\n",
    "    print(\"Passed\")\n",
    "except:\n",
    "    print(\"Failed\")"
   ]
  },
  {
   "cell_type": "code",
   "execution_count": null,
   "metadata": {},
   "outputs": [],
   "source": [
    "# Example solutions\n",
    "def histogram(lst, char):\n",
    "\treturn \"\\n\".join(char * i for i in lst)\n",
    "\n",
    "def histogram(lst, char):\n",
    "\tupdated_lst = []\n",
    "\tfor i in lst:\n",
    "\t\tupdated_lst.append(char * i)\n",
    "\treturn '\\n'.join(updated_lst)"
   ]
  },
  {
   "cell_type": "markdown",
   "metadata": {},
   "source": [
    "# Morse Kitty\n",
    "\n",
    "![](images/20221216200456.png)  \n",
    "\n",
    "This kitty has a secret relationship with the nextdoor feline. They want to communicate by flashlights, but first need to learn Morse Code, can you help them? They'll provide you with a morse dictionary to help you!\n",
    "\n",
    "Examples:\n",
    "```python\n",
    "encode_morse(\"KITTY CHALLENGE\") ➞ \". -.. .- -... -... .. -   -.-. .... .- .-.. .-.. . -. --. .\"\n",
    "encode_morse(\"HELP ME !\") ➞ \".... . .-.. .--.   -- .   -.-.--\"\n",
    "```"
   ]
  },
  {
   "cell_type": "code",
   "execution_count": null,
   "metadata": {},
   "outputs": [],
   "source": [
    "# your morse code dictionary\n",
    "kittycode = {\n",
    "  'A': '.-', 'B': '-...', 'C': '-.-.', 'D': '-..', 'E': '.', 'F': '..-.',\n",
    "  'G': '--.', 'H': '....', 'I': '..', 'J': '.---', 'K': '-.-', 'L': '.-..',\n",
    "  'M': '--', 'N': '-.', 'O': '---', 'P': '.--.', 'Q': '--.-', 'R': '.-.',\n",
    "  'S': '...', 'T': '-', 'U': '..-', 'V': '...-', 'W': '.--', 'X': '-..-',\n",
    "  'Y': '-.--', 'Z': '--..', ' ': ' ', '0': '-----',\n",
    "  '1': '.----', '2': '..---', '3': '...--', '4': '....-', '5': '.....',\n",
    "  '6': '-....', '7': '--...', '8': '---..', '9': '----.',\n",
    "  '&': '.-...', \"'\": '.----.', '@': '.--.-.', ')': '-.--.-', '(': '-.--.',\n",
    "  ':': '---...', ',': '--..--', '=': '-...-', '!': '-.-.--', '.': '.-.-.-',\n",
    "  '-': '-....-', '+': '.-.-.', '\"': '.-..-.', '?': '..--..', '/': '-..-.'\n",
    "}"
   ]
  },
  {
   "cell_type": "code",
   "execution_count": null,
   "metadata": {},
   "outputs": [],
   "source": [
    "# Work here\n",
    "def encode_morse(message):"
   ]
  },
  {
   "cell_type": "code",
   "execution_count": null,
   "metadata": {},
   "outputs": [],
   "source": [
    "# test here\n",
    "\n",
    "try:\n",
    "    Test.assert_equals(encode_morse(\"EDABBIT CHALLENGE\"), \". -.. .- -... -... .. -   -.-. .... .- .-.. .-.. . -. --. .\")\n",
    "    Test.assert_equals(encode_morse(\"HELP ME !\"), \".... . .-.. .--.   -- .   -.-.--\")\n",
    "    Test.assert_equals(encode_morse(\"CHALLENGE\"), \"-.-. .... .- .-.. .-.. . -. --. .\")\n",
    "    Test.assert_equals(encode_morse(\"1 APPLE AND 5 CHERRY, 7 SANDWICHES, 2 TABLES, 9 INVITED GUYS ! THAT'S SO COOL...\"), \".----   .- .--. .--. .-.. .   .- -. -..   .....   -.-. .... . .-. .-. -.-- --..--   --...   ... .- -. -.. .-- .. -.-. .... . ... --..--   ..---   - .- -... .-.. . ... --..--   ----.   .. -. ...- .. - . -..   --. ..- -.-- ...   -.-.--   - .... .- - .----. ...   ... ---   -.-. --- --- .-.. .-.-.- .-.-.- .-.-.-\")\n",
    "    print(\"Passed\")\n",
    "except:\n",
    "    print(\"Failed\")"
   ]
  },
  {
   "cell_type": "code",
   "execution_count": null,
   "metadata": {},
   "outputs": [],
   "source": [
    "# Example Solutions\n",
    "def encode_morse(message):\n",
    "    return ' '.join(kittycode[c] for c in message)\n",
    "\n"
   ]
  }
 ],
 "metadata": {
  "kernelspec": {
   "display_name": "Python 3.10.7 64-bit",
   "language": "python",
   "name": "python3"
  },
  "language_info": {
   "codemirror_mode": {
    "name": "ipython",
    "version": 3
   },
   "file_extension": ".py",
   "mimetype": "text/x-python",
   "name": "python",
   "nbconvert_exporter": "python",
   "pygments_lexer": "ipython3",
   "version": "3.10.7"
  },
  "orig_nbformat": 4,
  "vscode": {
   "interpreter": {
    "hash": "26de051ba29f2982a8de78e945f0abaf191376122a1563185a90213a26c5da77"
   }
  }
 },
 "nbformat": 4,
 "nbformat_minor": 2
}
