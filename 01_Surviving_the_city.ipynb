{
 "cells": [
  {
   "cell_type": "markdown",
   "metadata": {},
   "source": [
    "![](images/20221103084703.png)  "
   ]
  },
  {
   "cell_type": "markdown",
   "metadata": {},
   "source": [
    "## Recap: You've been transported to a world filled with kitties, with only your python as a tool to get back to your own world. After the Gand Kitty from the sky came down to earth and gave you a task to complete. After your success, you've been teleported to some unknown lands, filled with all kinds of new adventures for you!"
   ]
  },
  {
   "cell_type": "markdown",
   "metadata": {},
   "source": [
    "![](images/20221103085256.png)  "
   ]
  },
  {
   "cell_type": "markdown",
   "metadata": {},
   "source": [
    "A little Kitty stands at the entrance to the grand city where you wish to enter. \"Hellow humiuaw! Do you wish to enter the KittyCity?\". How cute, you answer with a resounding \"yes\"! \n",
    "\n",
    "\"Well okay then, in that case you have to show me you understand functions! You'll have to use them ALL. THE. TIME. here!\". Oh no.. that's going to be so much work!\n",
    "\n",
    "\"I want you to **DEFINE** a function, that calls my function. That way we can be best friends! If you do it correctly, I'll follow you on your travels and give you hints! Please make a function called *make_little_friend* than takes as input either yes/no, depending on whether you want to be my friend, and in that function, you simply call my function!\""
   ]
  },
  {
   "cell_type": "code",
   "execution_count": null,
   "metadata": {},
   "outputs": [],
   "source": [
    "# this is the little kitty's function\n",
    "def be_my_friend():\n",
    "    print(\"Miauw, we are friends now!\")\n",
    "\n",
    "# Make your function here, remember to CALL the kitty's function by typing \"be_my_friend()\" ONLY\n",
    "# If you PASS a \"yes\" to your function, so I guess you'll need an if statement in there somehwere"
   ]
  },
  {
   "cell_type": "markdown",
   "metadata": {},
   "source": [
    "It seems we are friends now, but I still want to be sure of your programming skills so we'll surive! The kitty says. \"I want you to make a function, where you take a number that has been passed in, and give the list element of that number\"\n",
    "\n",
    "what?\n",
    "\n",
    "\"okay let's make it more simple. Say I give you a list with 3 elements, my_list = [a, b, c]. If I want the first element, i will write my_list[0]\"\n",
    "\n",
    "You need to make a function that takes in my random number, and prints that element of the list!"
   ]
  },
  {
   "cell_type": "code",
   "execution_count": 58,
   "metadata": {},
   "outputs": [
    {
     "name": "stdout",
     "output_type": "stream",
     "text": [
      "My random number is 7\n",
      "seven\n"
     ]
    }
   ],
   "source": [
    "import random\n",
    "\n",
    "miauw_list = [\"zero\", \"one\", \"two\", \"three\", \"four\", \"five\", \"six\", \"seven\"]\n",
    "random_number = random.randint(0, 7)\n",
    "\n",
    "print(f\"My random number is {random_number}\")\n",
    "\n",
    "\n",
    "# Put your function here, remember, it needs as input the random_number and must print the corresponding list item"
   ]
  },
  {
   "cell_type": "markdown",
   "metadata": {},
   "source": [
    "Now make another function, that takes in the LIST itself (any list, theoretically), and outputs the LAST item, regardless of how long it is. I'll add a few more lists for you, but start off with the last item of miauw_list. \n",
    "\n",
    "Hint: you'll need indexing! Another hint: to get the second to last item from any list, you'll need: miauw_list[-2], as it goes back 2 from the end"
   ]
  },
  {
   "cell_type": "code",
   "execution_count": 60,
   "metadata": {},
   "outputs": [
    {
     "data": {
      "text/plain": [
       "'six'"
      ]
     },
     "execution_count": 60,
     "metadata": {},
     "output_type": "execute_result"
    }
   ],
   "source": [
    "test_list1 = [1, 2, 3, 4, 5]\n",
    "test_list2 = [[1], [2], [3]]\n",
    "\n",
    "miauw_list[-2]"
   ]
  },
  {
   "cell_type": "markdown",
   "metadata": {},
   "source": [
    "Yaaaay we're friends now! The kitty yells excitedly. But hen! Two cat guards show up, wanting to know if your friendship really is as real as you say!"
   ]
  },
  {
   "cell_type": "markdown",
   "metadata": {},
   "source": [
    "![](images/20221103093649.png)  "
   ]
  },
  {
   "cell_type": "markdown",
   "metadata": {},
   "source": [
    "You must pass the test. As friendship fluctuates, you need to write a FUNCTION that prints out one of the following cases:\n",
    "\n",
    "-if friendship is greater than  5.5: \"Yaay we're friends!!\"\n",
    "\n",
    "-if friendship is exactly 5.5: \"Pfew, we made it!!\"\n",
    "\n",
    "-if friendship is lower than 5.5: \"Quickly, run the function again!\""
   ]
  },
  {
   "cell_type": "code",
   "execution_count": null,
   "metadata": {},
   "outputs": [],
   "source": [
    "friendship = round(random.uniform(0, 10), 1)\n",
    "\n"
   ]
  },
  {
   "cell_type": "markdown",
   "metadata": {},
   "source": [
    "The kitty hugs you excitedly!"
   ]
  },
  {
   "cell_type": "markdown",
   "metadata": {},
   "source": [
    "![](images/20221103093536.png)  "
   ]
  },
  {
   "cell_type": "markdown",
   "metadata": {},
   "source": [
    "You travel for a bit, until two shop owner kitty's hail you over, showing their potions and special items"
   ]
  },
  {
   "cell_type": "markdown",
   "metadata": {},
   "source": [
    "![](images/20221103094600.png)  "
   ]
  },
  {
   "cell_type": "markdown",
   "metadata": {},
   "source": [
    "Hey there! We heard you were really good at making functions. You see, we have a problem, we don't have any good system in place to calculate our store prices, could you help us?\n",
    "\n",
    "OF course!! Kitty says\n",
    "\n",
    "Well great, this is what we want:\n",
    "\n",
    "A customer will want to spend a certain amount of money at our store. We need a function that takes that amount of money, and adds a 19% tax on top of it, we don't want to anger the IRS!! So after the taxes, if the total amount is greater than 100 rubles, we wish to apply a discount of 15% to the entire purchasing amount, how generous of us!"
   ]
  },
  {
   "cell_type": "markdown",
   "metadata": {},
   "source": [
    "So to put into perspective:\n",
    "\n",
    "a function that takes an amount of money as input\n",
    "\n",
    "a tax percentage that has to be added\n",
    "\n",
    "a discount that MAY be applied\n",
    "\n",
    "in the end, you want to return your final customer price with this: \"return final_price\" at the end of the function. You can call the function by saying \"final price = calculate_price(input_price)\""
   ]
  },
  {
   "cell_type": "code",
   "execution_count": null,
   "metadata": {},
   "outputs": [],
   "source": [
    "# what the customer spends in store without tax\n",
    "input_price = random.randint(0, 200)\n",
    "print(\"This kitty spent\", input_price)\n",
    "\n",
    "# defne the function calculate_price here\n",
    "\n",
    "\n",
    "# call the function here\n",
    "final_price = calculate_price(input_price)\n",
    "print(\"the final price is\", final_price)"
   ]
  },
  {
   "cell_type": "markdown",
   "metadata": {},
   "source": [
    "Oh here comes an actual customer! Let's calculate what they spent and then use your function to give them the price!\n",
    "\n",
    "hello customer, these are our items:\n",
    "\n",
    "items = ['Great balls','Hyper Potion', 'Revive']\n",
    "\n",
    "and their prices:\n",
    "\n",
    "prices = [25, 75, 26]\n",
    "\n",
    "what do you wish to buy?\n",
    "\n"
   ]
  },
  {
   "cell_type": "code",
   "execution_count": null,
   "metadata": {},
   "outputs": [],
   "source": [
    "prices = [25, 75, 26]\n",
    "\n",
    "# these are the items he wants to buy (the indexes of the prices)\n",
    "customer_basket = [0, 0, 1, 2]\n",
    "\n",
    "# calculate the input_price here, use a loop for all the items he wants to buy\n",
    "input_price = 0  # initialize the price at 0 so we can add during every loop\n",
    "\n",
    "for..  \n",
    "\n",
    "# call the function here\n",
    "\n",
    "print(\"Your final price is...\", final_price, \"!\")"
   ]
  },
  {
   "cell_type": "markdown",
   "metadata": {},
   "source": [
    "![](images/20221103100154.png)  "
   ]
  },
  {
   "cell_type": "markdown",
   "metadata": {},
   "source": [
    "The kitty customer has another request, she has many kittens, but she would like to keep a dictionary of which kitten came first etc. She gives you two lists, one with first, second etc. and another with the names of the kittens. Add them to your dictionary"
   ]
  },
  {
   "cell_type": "code",
   "execution_count": 107,
   "metadata": {},
   "outputs": [
    {
     "name": "stdout",
     "output_type": "stream",
     "text": [
      "{'first item': 10, 'second item': 'twenty', 'third item': 30}\n"
     ]
    }
   ],
   "source": [
    "# Here is a little example:\n",
    "\n",
    "my_dictionary = {\"first item\" : 10, \"second item\" : \"twenty\"}\n",
    "my_dictionary[\"third item\"] = 40-10\n",
    "\n",
    "print(my_dictionary)"
   ]
  },
  {
   "cell_type": "markdown",
   "metadata": {},
   "source": [
    "You see that a dictionary can be made with items by using              \n",
    "\n",
    "## {item : value, item : value, etc...}\n",
    "\n",
    "an item can be added by doing                                          \n",
    "\n",
    "## my_dictionary[item] = value"
   ]
  },
  {
   "cell_type": "code",
   "execution_count": 113,
   "metadata": {},
   "outputs": [
    {
     "name": "stdout",
     "output_type": "stream",
     "text": [
      "first\n",
      "henry\n",
      "{}\n"
     ]
    }
   ],
   "source": [
    "# now lets try it\n",
    "born = [\"first\", \"second\", \"third\", \"fourth\", \"fifth\"]\n",
    "names = [\"henry\", \"jacob\", \"denzel\", \"amelia\", \"jennifer\"]\n",
    "\n",
    "# here we make an empty dictionary to add to\n",
    "litter_dict = {}\n",
    "\n",
    "# Now you have a choice, you can just add each item from born, and each value from names, to the dictionary\n",
    "# or you can be smart and add them all using a for loop, you will need: \n",
    "# *********** for kitten in range(len(born)) **************\n",
    "# to be able to do a loop for every index in born, so \"kitten\" will be 0, 1, 2, 3, 4 for kittens 1-5\n",
    "# Here is a small example again:\n",
    "\n",
    "print(born[0]), print(names[0])\n",
    "\n",
    "# fill in the dictionary here\n",
    "\n",
    "\n",
    "# lets print out our dictionary\n",
    "print(litter_dict)\n"
   ]
  },
  {
   "cell_type": "markdown",
   "metadata": {},
   "source": [
    "After the exhausting day, your kitty friend wants to play a game. Eventually you finish the game, but the rules make it difficult to decide who's won! So, you make a little computer program to calculate what percentage of the board you (playing black pieces) have covered. If you have over the most coverage of the total of 64 squares, you won! here is an example of the output you should generate:\n",
    "\n",
    "### Enter the number of white pieces on the board: 34\n",
    "### Enter the number of black pieces on the board: 23\n",
    "### The percentage of black pieces on the board is: 35.94%\n",
    "### The percentage of black pieces of all the pieces on the board is: 40.35% "
   ]
  },
  {
   "cell_type": "code",
   "execution_count": null,
   "metadata": {},
   "outputs": [],
   "source": [
    "# If you do the input() function, a very small typing box will appear at the top of your screen, try it out here:\n",
    "my_number = input(\"Please type a number:\")\n",
    "print(\"My number is\", my_number)"
   ]
  },
  {
   "cell_type": "code",
   "execution_count": null,
   "metadata": {},
   "outputs": [],
   "source": [
    "# ask for the white and black pieces\n",
    "\n",
    "\n",
    "# calculate the percentage of black pieces on the board, so how many of the 64 squares you've covered\n",
    "\n",
    "\n",
    "# calculate the percentage of black pieces compared to total placed pieces, so \n",
    "# num_black_pieces / (num_black_pieces + num_white_pieces)\n",
    "\n",
    "# Print out whether black (you) have beaten kitty, having more black pieces than white pieces on the board"
   ]
  },
  {
   "cell_type": "markdown",
   "metadata": {},
   "source": [
    "After a long day, you both go to sleep in each other's arms. Ready for your next adventure!"
   ]
  },
  {
   "cell_type": "markdown",
   "metadata": {},
   "source": [
    "![](images/20221103102004.png)  "
   ]
  }
 ],
 "metadata": {
  "kernelspec": {
   "display_name": "Python 3.10.7 64-bit",
   "language": "python",
   "name": "python3"
  },
  "language_info": {
   "codemirror_mode": {
    "name": "ipython",
    "version": 3
   },
   "file_extension": ".py",
   "mimetype": "text/x-python",
   "name": "python",
   "nbconvert_exporter": "python",
   "pygments_lexer": "ipython3",
   "version": "3.10.7"
  },
  "orig_nbformat": 4,
  "vscode": {
   "interpreter": {
    "hash": "26de051ba29f2982a8de78e945f0abaf191376122a1563185a90213a26c5da77"
   }
  }
 },
 "nbformat": 4,
 "nbformat_minor": 2
}
