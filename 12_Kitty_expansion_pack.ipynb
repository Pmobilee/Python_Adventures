{
 "cells": [
  {
   "cell_type": "markdown",
   "metadata": {},
   "source": [
    "# Kitty bubble sort\n",
    "\n",
    "![](images/20221226155004.png)  \n",
    "\n",
    "This kitty heard you had some sorting exercises before, and he'd like you to use a different sorting algorithm; the Bubble Sort. With this, you get a list of numbers, and check every number against the one after it. If the first is higher than the second, you switch them! You keep looping over the list until you find none to switch, and your list should be sorted!\n",
    "\n",
    "Example:\n",
    "```python\n",
    "[3, 5, 4, 2] -> 5 > 4, so we switch positions: [3, 4, 5, 2]\n",
    "[3, 4, 5, 2] -> 5 > 2, so we switch positions: [3, 4, 2, 5]\n",
    "etc...\n",
    "```"
   ]
  },
  {
   "cell_type": "code",
   "execution_count": null,
   "metadata": {},
   "outputs": [],
   "source": [
    "# Work here\n",
    "\n",
    "kitty_sort(num_list):"
   ]
  },
  {
   "cell_type": "code",
   "execution_count": null,
   "metadata": {},
   "outputs": [],
   "source": [
    "# Test here\n",
    "\n",
    "try:\n",
    "    assert(kitty_sort([2, 3, 5, 3, 1]) == [1, 2, 3, 3, 5])\n",
    "    print(\"Passed!\")\n",
    "except:\n",
    "    print(\"Failed\")"
   ]
  },
  {
   "cell_type": "code",
   "execution_count": null,
   "metadata": {},
   "outputs": [],
   "source": [
    "num_list = [2, 3, 5, 3, 1, 1]\n",
    "\n",
    "def kitty_sort(num_list):\n",
    "\n",
    "    while True:\n",
    "        count = 0\n",
    "        for i in range(len(num_list) -1):\n",
    "            if num_list[i] > num_list[i + 1]:\n",
    "                higher_value = num_list[i]\n",
    "                num_list[i] = num_list[i+1]\n",
    "                num_list[i + 1] = higher_value\n",
    "                count += 1\n",
    "        if count == 0:\n",
    "            return num_list\n",
    "        \n",
    "\n",
    "kitty_sort(num_list)\n",
    "        "
   ]
  },
  {
   "cell_type": "markdown",
   "metadata": {},
   "source": [
    "# Kitty calculator 2\n",
    "\n",
    "![](images/20221226160125.png)  \n",
    "\n",
    "This kitty's calculator broke, can you make him a function that can calculate from sentences? It's simple: the format is \"NUM1 plus/times/minus NUM2\". Please only use integers.\n",
    "\n",
    "Example:\n",
    "```python\n",
    "\"1 times 1\" -> return 1 * 1\n",
    "\"50 plus 8\" -> return 50 + 8\n",
    "etc...\n",
    "```"
   ]
  },
  {
   "cell_type": "code",
   "execution_count": null,
   "metadata": {},
   "outputs": [],
   "source": [
    "def kittycalc(sentence):\n",
    "    "
   ]
  },
  {
   "cell_type": "code",
   "execution_count": null,
   "metadata": {},
   "outputs": [],
   "source": [
    "# test here\n",
    "\n",
    "try:\n",
    "    assert(kittycalc(\"5 times 5\") == 25)\n",
    "    assert(kittycalc(\"50 minus 5\") == 45)\n",
    "    assert(kittycalc(\"48 plus 5\") == 53)\n",
    "    print(\"Passed\")\n",
    "except:\n",
    "    print(\"Failed\")"
   ]
  },
  {
   "cell_type": "code",
   "execution_count": 16,
   "metadata": {},
   "outputs": [],
   "source": [
    "# Example solution\n",
    "\n",
    "def kittycalc(sentence):\n",
    "    num1 = int(sentence.split()[0])\n",
    "    num2 = int(sentence.split()[-1])\n",
    "    if \"plus\" in sentence:\n",
    "        return num1 + num2\n",
    "    elif \"minus\" in sentence:\n",
    "        return num1 - num2\n",
    "    elif \"times\" in sentence:\n",
    "        return num1 * num2\n",
    "    else:\n",
    "        print(\"Did you type in the right operator?\")"
   ]
  },
  {
   "cell_type": "markdown",
   "metadata": {},
   "source": [
    "# Kitty battle royale!\n",
    "\n",
    "![](images/20221226162329.png)  \n",
    "\n",
    "This is a little game for all your kitty chat followers! Add all that want to to a dictionary, with their username as keys, and 100 hitpoints as values. Then, use a while loop (google it) to keep battling until just one victor remains. Every loop, pick a random Kitty from your dictionary, and they will battle the monster and receive some damage, print this:\n",
    "\n",
    "print(\"Kitty ... received {damage} damage!\")\n",
    "\n",
    "You'll be given a random damage generator below. If kitty ... has <= 0 health, they die and you can print Kitty ... has died!, then you should remove that kitty from your dictionary. Your while loop should stop once there is only one kitty left. Since this function cannot be tested, there will be no asserts. To summarize:\n",
    "\n",
    "* Make a dictionary with some followers and 100 HP\n",
    "* While len(kitty_followers) != 1:  (<- while you still have more than 1 kitty left)\n",
    "* Use random.randint(0, 50) as damage\n",
    "* Between each damage done, use time.sleep(1) to wait one second between prints, to make it readable\n",
    "\n",
    "This is a bit more difficult perhaps, so be sure to ask your chat! \n",
    "\n",
    "**Below, some useful example code**"
   ]
  },
  {
   "cell_type": "code",
   "execution_count": null,
   "metadata": {},
   "outputs": [],
   "source": [
    "import random\n",
    "import time\n",
    "\n",
    "# Making the kitty dictionary\n",
    "kitty_followers = {\"first\": 100, \"second\" : 100, \"third\" : 100}\n",
    "\n",
    "# Making a while loop\n",
    "i = 0\n",
    "while i <= 5:\n",
    "    # Getting a random kitty from the dictionary\n",
    "    random_kitty = random.choice(list(kitty_followers.items()))\n",
    "    print(\"Random Kitty:\", random_kitty)\n",
    "\n",
    "    # Generating random damage\n",
    "    print(\"Damage:\", random.randint(0, 50))\n",
    "    print(\"Waiting one second!\\n\")\n",
    "\n",
    "    # Waiting a second\n",
    "    time.sleep(1)\n",
    "    i += 1\n"
   ]
  },
  {
   "cell_type": "code",
   "execution_count": null,
   "metadata": {},
   "outputs": [],
   "source": [
    "# Work here"
   ]
  }
 ],
 "metadata": {
  "kernelspec": {
   "display_name": "Python 3.10.6 64-bit",
   "language": "python",
   "name": "python3"
  },
  "language_info": {
   "codemirror_mode": {
    "name": "ipython",
    "version": 3
   },
   "file_extension": ".py",
   "mimetype": "text/x-python",
   "name": "python",
   "nbconvert_exporter": "python",
   "pygments_lexer": "ipython3",
   "version": "3.10.6"
  },
  "orig_nbformat": 4,
  "vscode": {
   "interpreter": {
    "hash": "4ebb652c7e935075b0a422c0d1b433309994f32ed4cfc553b7cfde93326650e0"
   }
  }
 },
 "nbformat": 4,
 "nbformat_minor": 2
}
