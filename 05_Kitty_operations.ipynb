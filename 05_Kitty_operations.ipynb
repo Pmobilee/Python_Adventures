{
 "cells": [
  {
   "cell_type": "markdown",
   "metadata": {},
   "source": [
    "# Recap: We've practiced with some datasets as well as numpy. This might mean we have the tools to help out some kitties and retrieve some magical items!\n",
    "\n",
    "# In the following exercises, some may be a little difficult. Remember, we can always return later to finish them!"
   ]
  },
  {
   "cell_type": "markdown",
   "metadata": {},
   "source": [
    "You start off by going to the Warriors guild. There, a bunch of very strong looking kitties await you with cheeky smirks.\n",
    "\n",
    "![](images/20221110134816.png)  "
   ]
  },
  {
   "cell_type": "markdown",
   "metadata": {},
   "source": [
    "\"We're in need of your help around here! We have a system where our kitty warriors put in their number of hours worked and their hourly wage, and then the system will pay them. However, it's broken and we desperately need someone to fix it for us so our kitties can buy new supplies!\"\n",
    "\n",
    "Hmm, sounds like quite a hassle, you think to yourself.\n",
    "\n",
    "\"What we need is simple:\"\n",
    "\n",
    "<ul>\n",
    "    <li>The device asks for the number of hours worked, which the warrior types in</li>\n",
    "    <li>Then the device calculates the total amount earned (16.50 an hour)</li>\n",
    "    <li>The device will deduct taxes if the total amount is more than 150, at 25% (Good idea to print if this happens, so you know your code triggers the tax deduction)</li>\n",
    "    <li>You should do this in a function that takes as input the number of hours worked the kitty types in</li>\n",
    "    <li>The function must RETURN the resulting amount ROUNDED, you can print it after the line where you run your function</li>\n",
    "    <li>Call the function warrior_calculation(), so the cell below can check if you did it right!</li>\n",
    "</ul>"
   ]
  },
  {
   "cell_type": "code",
   "execution_count": null,
   "metadata": {},
   "outputs": [],
   "source": [
    "# Work here!\n",
    "\n",
    "def ..."
   ]
  },
  {
   "cell_type": "code",
   "execution_count": null,
   "metadata": {},
   "outputs": [],
   "source": [
    "# Test it here! \n",
    "try:\n",
    "    assert(warrior_calculation(9) == 148)\n",
    "    print(\"Succeeded!\")\n",
    "except:\n",
    "    print(\"That doesn't seem totally right!\")"
   ]
  },
  {
   "cell_type": "markdown",
   "metadata": {},
   "source": [
    "Below is the correct code, collapsed"
   ]
  },
  {
   "cell_type": "code",
   "execution_count": null,
   "metadata": {},
   "outputs": [],
   "source": [
    "# Example of correct code...\n",
    "\n",
    "def warrior_calculation(hours):\n",
    "    earned = hours * 16.50\n",
    "    if earned > 150:\n",
    "        print(\"Taxes deducted!\")\n",
    "        earned *= 0.75\n",
    "\n",
    "    return round(earned)\n",
    "\n",
    "hours = int(input(\"How many hours have you worked?\"))\n",
    "print(f\"This kitty earned {warrior_calculation(hours)} Rubles!\")"
   ]
  },
  {
   "cell_type": "markdown",
   "metadata": {},
   "source": [
    "Wow, you really helped those kitties! Let's travel to the merchant guild next, they probably need our help too driving the Ruble economy!\n",
    "\n",
    "You arrive at the merchants guild, with many cats waiting eagerly for the one accountant kitty to do his job, he must be in trouble!\n",
    "\n",
    "![](images/20221110135039.png)  "
   ]
  },
  {
   "cell_type": "markdown",
   "metadata": {},
   "source": [
    "\"Oh how wonderful! Just what I needed, can you help me? I really need some code that can help me retrieve the numbers from all the kitties out here yelling!\"\n",
    "\n",
    "The kitties around you spew out random numbers, endlessly\n",
    "\n",
    "\"What I need is for you to take a string input from the kitties, that contain many numbers with a paws (pause) (space) (joke) between them, it looks like this:\"\n",
    "\n",
    "Please enter your numbers:  \"12 5 44 2 3 32 9 11 ...\"\n",
    "\n",
    "\"Now all those strings are hogging up all our servers, or actually, just me! Could you write code that takes any of those number strings, and gives a list of all the numbers in there? This is what you need to do:\"\n",
    "\n",
    "<ul>\n",
    "    <li>Ask a kitty for their numbers with spaces in between</li>\n",
    "    <li>Create a function called **kitty_numbers** that takes this string of numbers</li>\n",
    "    <li>Split that string using the .split() function.</li>\n",
    "    <li>Think very carefully ON WHAT you want to split (a space)</li>\n",
    "    <li>You know have a list of strings, not ints. Convert every item to an int, there are many ways to do so</li>\n",
    "    <li>Eventually, print out the list of integer numbers!</li>\n",
    "    <li>PS it's perfectly fine to just google \"convert python number input to list\" or something like that. Google is ur friend.</li>\n",
    "</ul>"
   ]
  },
  {
   "cell_type": "code",
   "execution_count": null,
   "metadata": {},
   "outputs": [],
   "source": [
    "# Work here\n",
    "\n",
    "def kitty_numbers(...):"
   ]
  },
  {
   "cell_type": "code",
   "execution_count": null,
   "metadata": {},
   "outputs": [],
   "source": [
    "# Test here:\n",
    "try:\n",
    "    assert(kitty_numbers(\"10 3 5 2 6 7\") == [10, 3, 5, 2, 6, 7])\n",
    "    print(\"Succeeded!\")\n",
    "except:\n",
    "    print(\"Doesn't seem completely right!\")"
   ]
  },
  {
   "cell_type": "code",
   "execution_count": null,
   "metadata": {},
   "outputs": [],
   "source": [
    "# Example solutions:\n",
    "\n",
    "# Solution 1:\n",
    "def kitty_numbers(string):\n",
    "\n",
    "    kitty_numbers_split = string.split(\" \")  # the string is split here into a list of strings, not int\n",
    "\n",
    "    kitty_numbers_list = []                    # make an empty list\n",
    "    for num in kitty_numbers_split:           # for every String number in our list of strings\n",
    "        int_num = int(num)                    # make an integer copy\n",
    "        kitty_numbers_list.append(int(num))    # add it to our newly made list\n",
    "\n",
    "    return kitty_numbers_list\n",
    "\n",
    "kitty_numbers_input = input(\"Pleasy type your numbers:\")\n",
    "kitty_numbers_list = kitty_numbers(kitty_numbers_input)\n",
    "print(\"The kitty numbers list is:\", kitty_numbers_list)\n",
    "\n",
    "\n",
    "\n",
    "# Solution 2 (See how simple it can be if you know the python basics?):\n",
    "\n",
    "def kitty_numbers(string):\n",
    "    return list(map(int, string.split()))\n",
    "\n",
    "\n",
    "kitty_numbers_input = input(\"Pleasy type your numbers:\")\n",
    "kitty_numbers_list = kitty_numbers(kitty_numbers_input)\n",
    "print(\"The kitty numbers list is:\", kitty_numbers_list)"
   ]
  },
  {
   "cell_type": "markdown",
   "metadata": {},
   "source": [
    "\"Wow, such a great job! Maybe if you're that good,you can help me with something that's been bugging me a lot recently! I'll give you a list of numbers so you won't have to do it all over again, they're all ints. I want you to make a function that returns a LIST with two numbers: The SMALLEST and SECOND SMALLEST, in that order. How will you do it? Well there are many ways, but think carefully\""
   ]
  },
  {
   "cell_type": "markdown",
   "metadata": {},
   "source": [
    "<ul>\n",
    "    <li>Make a function called smallest_numbers that takes the list of numbers as input</li>\n",
    "    <li>Find the smallest number and add it to your list</li>\n",
    "    <li>Find the second smallest number and add it to your list</li>\n",
    "    <li>Return the list</li>\n",
    "    <li>Print that list!</li>\n",
    "</ul>"
   ]
  },
  {
   "cell_type": "code",
   "execution_count": null,
   "metadata": {},
   "outputs": [],
   "source": [
    "# My numbers list:\n",
    "numbers = [10, 6, 7, 4, 3, 7, 2, 9, 1]\n",
    "\n",
    "def smallest_numbers(...):"
   ]
  },
  {
   "cell_type": "code",
   "execution_count": null,
   "metadata": {},
   "outputs": [],
   "source": [
    "# Test your solution:\n",
    "\n",
    "try:\n",
    "    assert(smallest_numbers([10, 6, 7, 4, 3, 7, 2, 9, 1]) == [1, 2])\n",
    "    print(\"Succeeded!\")\n",
    "except:\n",
    "    print(\"not quite there yet!\")"
   ]
  },
  {
   "cell_type": "code",
   "execution_count": null,
   "metadata": {},
   "outputs": [],
   "source": [
    "# Example solution:\n",
    "\n",
    "numbers = [10, 6, 7, 4, 3, 7, 2, 9, 1]\n",
    "def smallest_numbers(numbers):\n",
    "    smallest_list = []              # making an empty list\n",
    "    for loop in range(2):           # We want the smallest, remove it from the list, and then the smallest again: 2 loops\n",
    "        current_smallest = 1000             # Set current smallest to an unreasonably high number so we can find anything smaller\n",
    "\n",
    "        for num in numbers:                 # Loop over all numbers in the original list\n",
    "            if num < current_smallest:      \n",
    "                current_smallest = num      # If the number is smaller than current smallest, we keep it\n",
    "        \n",
    "        # We now have the smallest item, so we add it to our list:\n",
    "        smallest_list.append(current_smallest)\n",
    "\n",
    "        # and trick! we remove that number from the original list, and just loop again!\n",
    "        numbers.remove(current_smallest)\n",
    "\n",
    "    return smallest_list\n",
    "\n",
    "smallest_list = smallest_numbers(numbers)\n",
    "print(\"the smallest numbers are:\", smallest_list)"
   ]
  },
  {
   "cell_type": "markdown",
   "metadata": {},
   "source": [
    "Now that you're all done, you decide to continue over to the Play guild, where kitties learn to play, as well as learn their basic grammar. You come across two middle school kitties who want to show you a trick!\n",
    "\n",
    "![](images/20221110142522.png)  "
   ]
  },
  {
   "cell_type": "markdown",
   "metadata": {},
   "source": [
    "\"Hey there, we want to show you something cool, and then we'll give you a task, you up for it??\""
   ]
  },
  {
   "cell_type": "code",
   "execution_count": null,
   "metadata": {},
   "outputs": [],
   "source": [
    "# This is how you convert a letter to its number\n",
    "print(\"1. Printing ord(c):\" , ord(\"c\"))\n",
    "\n",
    "# This is the other way around\n",
    "print(\"2. Printing chr(99):\" , chr(99))\n",
    "\n",
    "# This is a joke:\n",
    "print(f\"3. Do you {chr(99)} what I mean?\")"
   ]
  },
  {
   "cell_type": "markdown",
   "metadata": {},
   "source": [
    "\"Now we want you to do the following trick that all middle school kitties can do! We want you to write the entire alphabet on a single line! Mwuahahah. You'll probably want to use a for loop. And also: to do the next print on the same line, just add ' end=\"\" ' at the end. So an example: "
   ]
  },
  {
   "cell_type": "code",
   "execution_count": null,
   "metadata": {},
   "outputs": [],
   "source": [
    "print(\"On \", end=\"\")\n",
    "\n",
    "print(\"the \", end=\"\")\n",
    "\n",
    "print(\"same \", end=\"\")\n",
    "\n",
    "print(\"line!\")"
   ]
  },
  {
   "cell_type": "markdown",
   "metadata": {},
   "source": [
    "Now print out the alphabet on a single line (without spaces) using for loops and the ord() and chr() functions!"
   ]
  },
  {
   "cell_type": "code",
   "execution_count": 31,
   "metadata": {},
   "outputs": [],
   "source": [
    "# Try it here:\n"
   ]
  },
  {
   "cell_type": "code",
   "execution_count": null,
   "metadata": {},
   "outputs": [],
   "source": [
    "# Working solution:\n",
    "\n",
    "a = ord(\"a\")\n",
    "z = ord(\"z\")\n",
    "\n",
    "# Loop from value 'a' to value 'z', changing the default \"\\n\" to \"\" after each print statement\n",
    "# Since range() function does not include final iteration, add 1\n",
    "for i in range(a, z + 1):\n",
    "    print(chr(i), end=\"\")"
   ]
  },
  {
   "cell_type": "markdown",
   "metadata": {},
   "source": [
    "\"Oh oh oh, we're not done yet! We're in a class for very smart kitties, and we have a new one for you! This time, make a function that writes:\"\n",
    "\n",
    "abcdefghijklmnopqrstuvwxyzyxwvutsrqponmlkjihgfedcba\n",
    "\n",
    "\"This is called a palindrome, it goes from a to z, and then from y to a again, it's perfectly reversible! so all letters except the \"z\" are printed twice! use what you've learned and remember, I want a function (without input) that prints this palindrome, good luck!\""
   ]
  },
  {
   "cell_type": "code",
   "execution_count": null,
   "metadata": {},
   "outputs": [],
   "source": [
    "# Work here\n"
   ]
  },
  {
   "cell_type": "code",
   "execution_count": null,
   "metadata": {},
   "outputs": [],
   "source": [
    "# Working solution:\n",
    "\n",
    "\n",
    "# Loop from value 'a' to value 'z', changing the default \"\\n\" to \"\"\n",
    "# and printing the letters from the 1st to 25th letter of alphabet.\n",
    "# The second loop prints from letter 26 to 1 (a - 1 adds the first letter)\n",
    "# Adding the -1 ensures iteration from highest ord to lowest\n",
    "def palindrome():\n",
    "    # Find out the corresponding values for letters a and z\n",
    "    a = ord(\"a\")\n",
    "    z = ord(\"z\")\n",
    "\n",
    "    for i in range(a, z):\n",
    "        print(chr(i), end=\"\")\n",
    "    for i in range(z, a - 1, -1):\n",
    "        print(chr(i), end=\"\")\n",
    "\n",
    "\n",
    "# Call to our function\n",
    "palindrome()"
   ]
  },
  {
   "cell_type": "markdown",
   "metadata": {},
   "source": [
    "\"Oh no.. she really knows what she's doing.\"\n",
    "\n",
    "The teacher walks in on you three playing around.\n",
    "\n",
    "![](images/20221110144049.png)  \n",
    "\n",
    "\"What are you all doing?? Did you make this? Hm... that's pretty clever. You know what, copy your previous function and change it. Now I want you to ask the user for a letter, like \"h\", and the palindrome should this time print the alphabet UP TO THAT LETTER, and then go back to \"a\"\"\n",
    "\n",
    "so if I type in \"h\" it will look like this:\n",
    "\n",
    "abcdefghgfedcba"
   ]
  },
  {
   "cell_type": "code",
   "execution_count": null,
   "metadata": {},
   "outputs": [],
   "source": [
    "# Good luck!\n"
   ]
  },
  {
   "cell_type": "code",
   "execution_count": null,
   "metadata": {},
   "outputs": [],
   "source": [
    "# Example solution:\n",
    "\n",
    "\n",
    "# Loop from value 'a' to value 'z'\n",
    "# and printing the letters from the 1st to given letter of alphabet.\n",
    "# The second loop prints from the stop letter to a (a - 1 adds the first letter)\n",
    "# Adding the -1 ensures iteration from highest ord to lowest\n",
    "def palindrome(stop):\n",
    "    # Find out the corresponding values for letters a and z\n",
    "    a = ord(\"a\")\n",
    "    z = ord(\"z\")\n",
    "\n",
    "    for i in range(a, stop):\n",
    "        print(chr(i), end=\"\")\n",
    "    for i in range(stop, a - 1, -1):\n",
    "        print(chr(i), end=\"\")\n",
    "\n",
    "# Ask for the letter where we should stop:\n",
    "stop = ord(input(\"Type a letter: \"))\n",
    "# Call to our function\n",
    "palindrome(stop)"
   ]
  },
  {
   "cell_type": "markdown",
   "metadata": {},
   "source": [
    "The teacher is so impressed with you, that she gives you a final, MONUMENTAL task:\n",
    "\n",
    "                                       a                                        \n",
    "                                      aba                                       \n",
    "                                     abcba                                      \n",
    "                                    abcdcba                                     \n",
    "                                   abcdedcba                                    \n",
    "                                  abcdefedcba                                   \n",
    "                                 abcdefgfedcba                                  \n",
    "                                abcdefghgfedcba                                 \n",
    "                               abcdefghihgfedcba                                \n",
    "                              abcdefghijihgfedcba                               \n",
    "                             abcdefghijkjihgfedcba                              \n",
    "                            abcdefghijklkjihgfedcba                             \n",
    "                           abcdefghijklmlkjihgfedcba                            \n",
    "                          abcdefghijklmnmlkjihgfedcba                           \n",
    "                         abcdefghijklmnonmlkjihgfedcba\n",
    "\n",
    "\n",
    "\"I want you to produce this beautiful pyramid. Where you make a function that takes in the amount of LEVELS of the pyramid. Then, the function must write per level the palindrome corresponding to that level's number. So level 1 is just a, level 2 is aba, level 3 is abcba, etc...\"\n",
    "\n",
    "\"You can use the following code to center your code:\""
   ]
  },
  {
   "cell_type": "code",
   "execution_count": 40,
   "metadata": {},
   "outputs": [
    {
     "name": "stdout",
     "output_type": "stream",
     "text": [
      "                                     test1                                      \n",
      "                                   test1test1                                   \n",
      "                                test1test1test1                                 \n"
     ]
    }
   ],
   "source": [
    "print(\"test1\".center(80))\n",
    "print(\"test1test1\".center(80))\n",
    "print(\"test1test1test1\".center(80))"
   ]
  },
  {
   "cell_type": "code",
   "execution_count": null,
   "metadata": {},
   "outputs": [],
   "source": [
    "# GOod luck, you'll need it!\n"
   ]
  },
  {
   "cell_type": "code",
   "execution_count": null,
   "metadata": {},
   "outputs": [],
   "source": [
    "# working solution:\n",
    "\n",
    "# While i < levels, generate letter (a : a + level)\n",
    "# Then generate letter (a + level : a - 1, steps of -1)\n",
    "# Combine both strings and center these\n",
    "# Clear both generated strings and start next iteration (i += 1) on next line\n",
    "def pyramid(n):\n",
    "    a = ord(\"a\")\n",
    "    i = 0\n",
    "    c = 0\n",
    "    from_start = ''\n",
    "    from_back = ''\n",
    "    while i < levels:\n",
    "        for c in range(a, a + i):\n",
    "            from_start = from_start + chr(c)\n",
    "        for c in range(a + i, a - 1, -1):\n",
    "            from_back = from_back + chr(c)\n",
    "        print((from_start + from_back).center(80))\n",
    "        from_start = ''\n",
    "        from_back = ''\n",
    "        i += 1\n",
    "\n",
    "# Ask user for amount of levels of the pyramid to generate\n",
    "# levels = int(input(\"How many levels: \"))\n",
    "levels = 15 # or int(input())...\n",
    "\n",
    "pyramid(levels)"
   ]
  }
 ],
 "metadata": {
  "kernelspec": {
   "display_name": "Python 3.9.13 ('dl')",
   "language": "python",
   "name": "python3"
  },
  "language_info": {
   "codemirror_mode": {
    "name": "ipython",
    "version": 3
   },
   "file_extension": ".py",
   "mimetype": "text/x-python",
   "name": "python",
   "nbconvert_exporter": "python",
   "pygments_lexer": "ipython3",
   "version": "3.9.13"
  },
  "orig_nbformat": 4,
  "vscode": {
   "interpreter": {
    "hash": "840a7fc33b32b408095679afce6ebddcd7315624bdb28fa45544d0cfa56ee3bc"
   }
  }
 },
 "nbformat": 4,
 "nbformat_minor": 2
}
