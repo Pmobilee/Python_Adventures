{
 "cells": [
  {
   "cell_type": "markdown",
   "metadata": {},
   "source": [
    "# Recap: After leaving the dungeons in the nick of time, you find yourself in a lush forest, filled with strange creatures and artifacts"
   ]
  },
  {
   "cell_type": "markdown",
   "metadata": {},
   "source": [
    "![](images/20221106113705.png)  "
   ]
  },
  {
   "cell_type": "markdown",
   "metadata": {},
   "source": [
    "Well now, perhaps it is a good idea if we recap some small things, don't you think? Why don't I write down some code, and you tell me for every cell what the output is, miauw!"
   ]
  },
  {
   "cell_type": "code",
   "execution_count": 18,
   "metadata": {},
   "outputs": [],
   "source": [
    "my_list = [1, 2, 3, 4]\n",
    "another_list = [2, 2, 2, 2]"
   ]
  },
  {
   "cell_type": "code",
   "execution_count": null,
   "metadata": {},
   "outputs": [],
   "source": [
    "print(my_list[0])"
   ]
  },
  {
   "cell_type": "code",
   "execution_count": null,
   "metadata": {},
   "outputs": [],
   "source": [
    "print([my_list[0]])"
   ]
  },
  {
   "cell_type": "code",
   "execution_count": null,
   "metadata": {},
   "outputs": [],
   "source": [
    "# 'i' is often used instead of writing 'index'\n",
    "for i in my_list:\n",
    "    print(i)"
   ]
  },
  {
   "cell_type": "code",
   "execution_count": null,
   "metadata": {},
   "outputs": [],
   "source": [
    "for i in range(len(my_list)):\n",
    "    print(i)"
   ]
  },
  {
   "cell_type": "code",
   "execution_count": null,
   "metadata": {},
   "outputs": [],
   "source": [
    "for i in range(len(my_list)):\n",
    "    print(f\"i is: {i}\") # this is i, our number in range 0-length_of_our_list (0-3)\n",
    "    print(f\"my_list[i] is: {my_list[i]}\") # this is the ith value of my_list\n",
    "    print(\"Combined:\", i * my_list[i], \"\\n\") # \"\\n\" makes a new line, ignore it"
   ]
  },
  {
   "cell_type": "code",
   "execution_count": null,
   "metadata": {},
   "outputs": [],
   "source": [
    "# What will be the COUNT? Think carefully and practice your loops miauw\n",
    "\n",
    "# first we set our counter to 0:\n",
    "count = 0\n",
    "\n",
    "# Then we add 1 to our count, every time our inner loop is looped\n",
    "for i in my_list:\n",
    "    for j in another_list:\n",
    "        count += 1\n",
    "\n",
    "print(count)"
   ]
  },
  {
   "cell_type": "code",
   "execution_count": null,
   "metadata": {},
   "outputs": [],
   "source": [
    "# To watch more closely what just happened:\n",
    "for i in range(len(my_list)):\n",
    "    for j in range(len(another_list)):\n",
    "        print(f\"i={i}/j={j}\")"
   ]
  },
  {
   "cell_type": "markdown",
   "metadata": {},
   "source": [
    "So we loop for every index of the first list, and in every one of those loops, we loop for every index of the second list, so four loops of four loops!"
   ]
  },
  {
   "cell_type": "markdown",
   "metadata": {},
   "source": [
    "Okay, enough playing around, I see an opening in the forest! Let's go there\n",
    "\n",
    "![](images/20221106114817.png)  "
   ]
  },
  {
   "cell_type": "markdown",
   "metadata": {},
   "source": [
    "You arrive at the opening, which has a vast field filled with all types of playing kitties.\n",
    "\n",
    "![](images20221106124741.png)  "
   ]
  },
  {
   "cell_type": "markdown",
   "metadata": {},
   "source": [
    "\"Hey, there are so many kitty's here, but I'm afraid they will steal our wetfood! Perhaps you could make a function that takes in a password, and only prints the contents of our backpack if it matches?\". Yes, that sounds like a great idea!"
   ]
  },
  {
   "cell_type": "markdown",
   "metadata": {},
   "source": [
    "Here is our backpack:"
   ]
  },
  {
   "cell_type": "code",
   "execution_count": null,
   "metadata": {},
   "outputs": [],
   "source": [
    "backpack = {\n",
    "    \"Wetfoods\" : 10,\n",
    "    \"Tuna pieces\" : 5,\n",
    "    \"String balls\" : 5\n",
    "}\n",
    "\n",
    "print(backpack)"
   ]
  },
  {
   "cell_type": "markdown",
   "metadata": {},
   "source": [
    "Now make a function that prints the backpack content, ONLY IF the password matches.."
   ]
  },
  {
   "cell_type": "code",
   "execution_count": null,
   "metadata": {},
   "outputs": [],
   "source": [
    "# Here we make our function, I've added a bit for you, but you still need to add the password check, \n",
    "# AND DONT FORGET, this function needs to be passed a password. You need to think of a password yourself\n",
    "\n",
    "def password_check(...):\n",
    "    # define your true password here:\n",
    "    password = ...\n",
    "\n",
    "    # make your password check here\n",
    "    ...\n",
    "    # if the conditions are met, print the backpack\n",
    "    ...\n",
    "\n",
    "# Now try out a password here, to see if any kitties could easily steal your stuff\n",
    "test_password = ...\n",
    "\n",
    "# And call your password check function\n",
    "password_check(...)"
   ]
  },
  {
   "cell_type": "markdown",
   "metadata": {},
   "source": [
    "Great! Our backpack is secure, we're all set to venture into the crowd!\n",
    "\n",
    "(and holycrap this image was generated appropriately xd)\n",
    "\n",
    "\n",
    "![](images/20221106125845.png)  "
   ]
  },
  {
   "cell_type": "markdown",
   "metadata": {},
   "source": [
    "# So an exciting announcement, our world of kitties is becoming more complex, so soon we'll need to work with catasets (datasets for cats). For this, the holy alliance of Pandas will help us, they make our python much better for data analysis, so we can study the cats better in order to find your way back home. However, we first really need to be comfortable with for loops, so we'll have to dedicate our adventure today to those I'm afraid. But don't worry! We'll get through it if we do it really slowly!"
   ]
  },
  {
   "cell_type": "markdown",
   "metadata": {},
   "source": [
    "Let me first show you something you might already know, but can be very confusing.. tell me what the outputs will be of the following for loops, without running the cells, then run them after you've guessed them all."
   ]
  },
  {
   "cell_type": "code",
   "execution_count": null,
   "metadata": {},
   "outputs": [],
   "source": [
    "my_list = [\"zero\", \"one\", \"two\", \"three\", \"four\"]\n",
    "\n",
    "print(\"first loop using item:\")\n",
    "for item in my_list:\n",
    "    print(item, end = \" \") # end=\" \" just means we print everything on the same line here\n",
    "\n",
    "print(\"\\n\\nsecond loop using index:\")\n",
    "for index in my_list:\n",
    "    print(index, end = \" \") # end=\" \" just means we print everything on the same line here\n",
    "    \n",
    "\n",
    "print(\"\\n\\nthird loop using number:\")\n",
    "for number in my_list:\n",
    "    print(number, end = \" \") # end=\" \" just means we print everything on the same line here\n",
    "\n",
    "print(\"\\n\\nfourth loop using useaidifuhse:\")\n",
    "for useaidifuhse in my_list:\n",
    "    print(useaidifuhse, end = \" \") # end=\" \" just means we print everything on the same line here\n",
    "\n",
    "print(\"\\n\\nfifth loop using index again, but differently:\")\n",
    "for index in range(len(my_list)):\n",
    "    print(index, end = \" \") # end=\" \" just means we print everything on the same line here"
   ]
  },
  {
   "cell_type": "markdown",
   "metadata": {},
   "source": [
    "Now please try to fully engrain this in you little human mind. The firts four are identical, whatever random stuff you type in as X in \"for X ...\", it doesnt matter. What matters is WHAT YOU TYPE AFTER \"IN ..\". So for every thing in my_list, we want to do something with the thing. But in the last loop we do something different:  "
   ]
  },
  {
   "cell_type": "code",
   "execution_count": null,
   "metadata": {},
   "outputs": [],
   "source": [
    "print(\"\\n\\nfifth loop using index again, but differently:\")\n",
    "for index in range(len(my_list)):\n",
    "    print(index, end = \" \") # end=\" \" just means we print everything on the same line here"
   ]
  },
  {
   "cell_type": "markdown",
   "metadata": {},
   "source": [
    "Here we loop over EVERY THING, in the RANGE BETWEEN 0 AND len(my_list), which is 5. What lies between 0 and 5? exactly, 0 1 2 3 4. Try it out for yourself, make a for loop that prints \"Miauw\" as many times as a number you give it:"
   ]
  },
  {
   "cell_type": "code",
   "execution_count": null,
   "metadata": {},
   "outputs": [],
   "source": [
    "# Make a number here:\n",
    "miauw_number = ...\n",
    "\n",
    "# Begin your for loop now, look closely at the previous for loop cell. Think about whether you have to use the len() function\n",
    "# or not, explain before you start whether you need a len() in the range() function when using just a number\n",
    "\n",
    "for maiuw in range():\n",
    "    print(...)"
   ]
  },
  {
   "cell_type": "markdown",
   "metadata": {},
   "source": [
    "Yaay, can you see me in the rollercoaster they have here? We love loops!!\n",
    "\n",
    "![](images/20221106131749.png)  \n",
    "\n",
    "\n",
    "Uh oh... I'm getting a little nauseous.. Maybe you should write a loop where you count how many rollercoaster loops I've done. \n",
    "\n",
    "if I'm at 0 zero loops print out \"yaaay\"\n",
    "\n",
    "if i'm at 10 loops print out \"uh oh...\"\n",
    "\n",
    "if I'm at 25 loops print out \"oh dear..\"\n",
    "\n",
    "if I'm at 72976 loops print out \"Hit the breakers!!!\". and then BREAK out of the rollercoaster loop. Simply type \"break\" in the if statement\n",
    "\n",
    "below the code of your loop, print out \"Rollercoaster stopped\", this should only trigger after all the above has been printed out once. REMEMBER, you need to keep track of how many loops you've done by COUNTing. I think we did that a bit earlier right?"
   ]
  },
  {
   "cell_type": "code",
   "execution_count": null,
   "metadata": {},
   "outputs": [],
   "source": [
    "# No help here, you should ask you little chat kitties if you get stuck I guess\n"
   ]
  },
  {
   "cell_type": "markdown",
   "metadata": {},
   "source": [
    "# Now that we've practiced for loops a lot, let's do one more thing: Indexing"
   ]
  },
  {
   "cell_type": "markdown",
   "metadata": {},
   "source": [
    "But wait, I've done indexing before, right? \n",
    "\n",
    "Well yes, that's true, but there's more to indexing than you think. Let's try something you already know"
   ]
  },
  {
   "cell_type": "code",
   "execution_count": 81,
   "metadata": {},
   "outputs": [],
   "source": [
    "random_foods = [\"wetfood\", \"gross\", \"wetfood\", \"gross\", \"wetfood\", \"hairball\", \"wetfood\", \"cat toy\"]"
   ]
  },
  {
   "cell_type": "markdown",
   "metadata": {},
   "source": [
    "First get the cat toy using indexing, remember, theres a smart way to get the last item!"
   ]
  },
  {
   "cell_type": "code",
   "execution_count": null,
   "metadata": {},
   "outputs": [],
   "source": []
  },
  {
   "cell_type": "markdown",
   "metadata": {},
   "source": [
    "Now get the last wetfood, in the same way you just did"
   ]
  },
  {
   "cell_type": "code",
   "execution_count": null,
   "metadata": {},
   "outputs": [],
   "source": []
  },
  {
   "cell_type": "markdown",
   "metadata": {},
   "source": [
    "Okay now I'll show you how to get the first three items:"
   ]
  },
  {
   "cell_type": "code",
   "execution_count": null,
   "metadata": {},
   "outputs": [],
   "source": [
    "random_foods[0:3]"
   ]
  },
  {
   "cell_type": "markdown",
   "metadata": {},
   "source": [
    "Awesome right? I just said; give me the items at the indexes from 0 UP TILL 3, so index 0 1 2. Why don't you try to get the first 5 items!"
   ]
  },
  {
   "cell_type": "code",
   "execution_count": null,
   "metadata": {},
   "outputs": [],
   "source": []
  },
  {
   "cell_type": "markdown",
   "metadata": {},
   "source": [
    "Great job, now let's try to make that a little simpeler:"
   ]
  },
  {
   "cell_type": "code",
   "execution_count": null,
   "metadata": {},
   "outputs": [],
   "source": [
    "random_foods[:3]"
   ]
  },
  {
   "cell_type": "markdown",
   "metadata": {},
   "source": [
    "You see that, we can just leave it empty and it will count as \"all\". What do I mean all in this case? Well, all items before index 3, which is the same as 0:3. Now can you guess what just a  \":\" will give us?"
   ]
  },
  {
   "cell_type": "code",
   "execution_count": null,
   "metadata": {},
   "outputs": [],
   "source": [
    "random_foods[:]"
   ]
  },
  {
   "cell_type": "markdown",
   "metadata": {},
   "source": [
    "Exactly! Just gives us all items, as we specified no limits to the indexes. Can you guess what this gives us?"
   ]
  },
  {
   "cell_type": "code",
   "execution_count": null,
   "metadata": {},
   "outputs": [],
   "source": [
    "print(random_foods[:-1])"
   ]
  },
  {
   "cell_type": "markdown",
   "metadata": {},
   "source": [
    "Yeah, it gives us all items before the last item, so we're just missing our cat toy"
   ]
  },
  {
   "cell_type": "markdown",
   "metadata": {},
   "source": [
    "Now let's do something cool:"
   ]
  },
  {
   "cell_type": "code",
   "execution_count": null,
   "metadata": {},
   "outputs": [],
   "source": [
    "print(random_foods[::-1])"
   ]
  },
  {
   "cell_type": "markdown",
   "metadata": {},
   "source": [
    "Yeah you saw that correctly.. I just reversed the list! I did that by idexing. I said: \"all\":\"all\":\"-1\". So the first part we just discussed, \"all\":\"all\" just means \"all indexes in the list\", but then I added another :, after which I said \"-1\". let's first see what happens if I don't do minus:"
   ]
  },
  {
   "cell_type": "code",
   "execution_count": null,
   "metadata": {},
   "outputs": [],
   "source": [
    "print(random_foods[::1])"
   ]
  },
  {
   "cell_type": "markdown",
   "metadata": {},
   "source": [
    "hey that's just our normal list, you see that? Well, \n",
    "\n",
    "the first index in [1:2:3] gives us a starting position, leaving it empty means \"all\"\n",
    "\n",
    "the second index in [1:2:3] gives us a stopping position, leaving it empty means \"all\"\n",
    "\n",
    "the third index in [1:2:3] gives us THE ORDER. 1 means (1 step at a time), -1 means (one negative step at the time == means backwards)\n",
    "\n",
    "Why dont you try showing the entire list, but only every SECOND item.. you should be rewarded in your output..."
   ]
  },
  {
   "cell_type": "code",
   "execution_count": 82,
   "metadata": {},
   "outputs": [],
   "source": [
    "# Think carefully, every SECOND item, what STEP SIZE is that?\n"
   ]
  },
  {
   "cell_type": "markdown",
   "metadata": {},
   "source": [
    "Hmmmm Yummy! Take not that every second item, means every second item starting from the first item. So indexes: 0, 2, 4, 6, and NOT 2, 4, 6,\n",
    "\n",
    "![](images/20221106134153.png)  "
   ]
  },
  {
   "cell_type": "markdown",
   "metadata": {},
   "source": [
    "# I think we'll be ready for our meeting with Pandas next time. Hopefully they'll teach us some amazing things to study the world of kittens!"
   ]
  }
 ],
 "metadata": {
  "kernelspec": {
   "display_name": "Python 3.10.7 64-bit",
   "language": "python",
   "name": "python3"
  },
  "language_info": {
   "codemirror_mode": {
    "name": "ipython",
    "version": 3
   },
   "file_extension": ".py",
   "mimetype": "text/x-python",
   "name": "python",
   "nbconvert_exporter": "python",
   "pygments_lexer": "ipython3",
   "version": "3.10.7"
  },
  "orig_nbformat": 4,
  "vscode": {
   "interpreter": {
    "hash": "26de051ba29f2982a8de78e945f0abaf191376122a1563185a90213a26c5da77"
   }
  }
 },
 "nbformat": 4,
 "nbformat_minor": 2
}
