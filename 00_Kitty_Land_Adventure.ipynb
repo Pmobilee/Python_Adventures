{
 "cells": [
  {
   "cell_type": "markdown",
   "metadata": {},
   "source": [
    "# Adventures in Kitty Land"
   ]
  },
  {
   "cell_type": "markdown",
   "metadata": {},
   "source": [
    "## \"Oh miauw! Hello human, what are you doing here? This is a world full of cats, it's no place for you bi-peds!\" One of the cats on the street said. Why can the cats here talk? And what am I even doing here? You look around you, and can't find a single human being in sight."
   ]
  },
  {
   "cell_type": "markdown",
   "metadata": {},
   "source": [
    "![](images/20221102160734.png)  "
   ]
  },
  {
   "cell_type": "markdown",
   "metadata": {},
   "source": [
    "## You decide to head over to a nearby shop, where a sweet kitty has a bookstore, maybe it will have a map of the area!"
   ]
  },
  {
   "cell_type": "markdown",
   "metadata": {},
   "source": [
    "![](images/20221102160713.png)  "
   ]
  },
  {
   "cell_type": "markdown",
   "metadata": {},
   "source": [
    "# \"Hello Human, what can I do for you?\" The kitten says. You should probably tell it you want a map of the area to find your way out! Do so with a print statement"
   ]
  },
  {
   "cell_type": "code",
   "execution_count": 1,
   "metadata": {},
   "outputs": [],
   "source": [
    "# 1\n"
   ]
  },
  {
   "cell_type": "markdown",
   "metadata": {},
   "source": [
    "# The kitten thinks you could have been more polite, but grants you the map anyway. Now you should look over the map of the area and check out all the places. Use a for-loop to print out all the places on the map in the form of \"Place: {place_name}\" for every place:"
   ]
  },
  {
   "cell_type": "code",
   "execution_count": 2,
   "metadata": {},
   "outputs": [],
   "source": [
    "# 2\n",
    "\n",
    "map_places = [\"Miauwronto\", \"Amiauwrica\", \"Miauwaukee\"]"
   ]
  },
  {
   "cell_type": "markdown",
   "metadata": {},
   "source": [
    "# After having gone through the places of the map, it seems that Miauwronto is a good place to start! First, you check your pockets, and want to count how many Reese's chocolate bars you have left. Better keep the cats from eating them, that would be bad! Count the number of bars and print the outcome:"
   ]
  },
  {
   "cell_type": "code",
   "execution_count": 3,
   "metadata": {},
   "outputs": [],
   "source": [
    "# 3\n",
    "\n",
    "bars = [\"chocolate_bar\", \"chocolate_bar\", \"chocolate_bar\", \"chocolate_bar\", \"chocolate_bar\", \"chocolate_bar\", \"chocolate_bar\", \"chocolate_bar\", \"chocolate_bar\", \"chocolate_bar\", \"chocolate_bar\", \"chocolate_bar\", \"chocolate_bar\"]\n",
    "\n"
   ]
  },
  {
   "cell_type": "markdown",
   "metadata": {},
   "source": [
    "# Jeesh you glutton! That's so many. Anyway, you should try to practice miauwing during your print statements! Use f-strings to accomplish this. The example syntax is as follows: f\"hey, {miauw} name is {name}\""
   ]
  },
  {
   "cell_type": "code",
   "execution_count": 4,
   "metadata": {},
   "outputs": [],
   "source": [
    "# 4\n",
    "\n",
    "miauw = \"miauw\""
   ]
  },
  {
   "cell_type": "markdown",
   "metadata": {},
   "source": [
    "![](images/20221102162206.png)  "
   ]
  },
  {
   "cell_type": "markdown",
   "metadata": {},
   "source": [
    "# As you arrive in Miauwronto, you are greeted by several weird looking cats. They miauw in very strange languages. FInd out the *type* of their miauws using the type() function, print out the results, but first, guess what the type could be!"
   ]
  },
  {
   "cell_type": "code",
   "execution_count": 5,
   "metadata": {},
   "outputs": [],
   "source": [
    "# 5\n",
    "\n",
    "cat1 = \"miauw\"\n",
    "cat2 = 3778\n",
    "cat3 = 0.696969\n",
    "cat4 = [\"miauw\"]\n",
    "cat5 = \"miauw\" + \"miauw\"\n",
    "cat6 = 3778 + 0.69"
   ]
  },
  {
   "cell_type": "markdown",
   "metadata": {},
   "source": [
    "# Once you are able to understand the cats, you realize they want you to give them wetfood! They present you with their basket, and you should make a list with 6 wetfoods in them, then add that to their basket! "
   ]
  },
  {
   "cell_type": "code",
   "execution_count": 6,
   "metadata": {},
   "outputs": [],
   "source": [
    "# 6\n",
    "kitty_basket = [\"piece of string\", \"dead mousey\", \"another piece of string\"]"
   ]
  },
  {
   "cell_type": "markdown",
   "metadata": {},
   "source": [
    "![](images/20221102162645.png)  "
   ]
  },
  {
   "cell_type": "markdown",
   "metadata": {},
   "source": [
    "# How long is their basket list now? Guess first, then check the kitty_basket using the len() function, print out the results!"
   ]
  },
  {
   "cell_type": "code",
   "execution_count": null,
   "metadata": {},
   "outputs": [],
   "source": [
    "# 7"
   ]
  },
  {
   "cell_type": "markdown",
   "metadata": {},
   "source": [
    "# Wait, one of the wetfoods is just another chocolate bar, oh no! Using indexing, edit the wetfood item you added to their kitty_basket to be: = \"only wetfood\""
   ]
  },
  {
   "cell_type": "code",
   "execution_count": null,
   "metadata": {},
   "outputs": [],
   "source": [
    "# 8\n",
    "\n",
    "# See how the kitty basket has a length of 4, so indexes of 0, 1, 2, 3...\n",
    "print(len(kitty_basket), kitty_basket)"
   ]
  },
  {
   "cell_type": "markdown",
   "metadata": {},
   "source": [
    "# These kitties are insatiable (in, say, ti, ah, bul ;)! One of the kitties has many kittens, but their names are very similar, can you print the unique kitten names? Maybe you should find the unique **SET** of items?"
   ]
  },
  {
   "cell_type": "code",
   "execution_count": null,
   "metadata": {},
   "outputs": [],
   "source": [
    "# 9\n",
    "\n",
    "kitty_names = [\"Kitty\", \"Another kitty\", \"Kitty\", \"Just kitty\", \"Another kitty\", \"Kitty the 3rd\", \"Just Another Kitty\", \"Just kitty\"]\n"
   ]
  },
  {
   "cell_type": "markdown",
   "metadata": {},
   "source": [
    "# In order to explain why her kitties aren't unique with these names, use Boolean Operations to demonstrate that Kitty is equal to Kitty, and that Another Kitty is not equal to Just kitty"
   ]
  },
  {
   "cell_type": "code",
   "execution_count": null,
   "metadata": {},
   "outputs": [],
   "source": [
    "# 10"
   ]
  },
  {
   "cell_type": "markdown",
   "metadata": {},
   "source": [
    "# \"Oh, so you think you are smart with logical operators, eh?\" A kitty in the back says. \"Well why don't you show us you know the answers to all these questions miauw!\" You bravely fill in all the questions below, hoping you are right!"
   ]
  },
  {
   "cell_type": "code",
   "execution_count": null,
   "metadata": {},
   "outputs": [],
   "source": [
    "a = 10\n",
    "b = 7\n",
    "c = 5\n",
    "d = 3\n",
    "\n",
    "# uncomment each line for the next question\n",
    "\n",
    "print(\"Q1\", a >= b, \"your answer here\")\n",
    "# print(\"Q2\", a == b, \"your answer here\")\n",
    "# print(\"Q3\", a % b, \"your answer here\")\n",
    "# print(\"Q4\", (a % b) > (a % c), \"your answer here\")\n",
    "# print(\"Q5\", (a % b) % (c % d), \"your answer here\")\n",
    "# print(\"Q6\", (a - b) < c, \"your answer here\")\n",
    "# print(\"Q7\", a += b, \"your answer here\")\n",
    "\n"
   ]
  },
  {
   "cell_type": "markdown",
   "metadata": {},
   "source": [
    "# Oh we're not done yet, do you know if statements? Will the miauw be printed?"
   ]
  },
  {
   "cell_type": "code",
   "execution_count": null,
   "metadata": {},
   "outputs": [],
   "source": [
    "if True or (3 > 2 or 7 < 14 or (5 != 6)) :\n",
    "    print(\"I miauwed\")"
   ]
  },
  {
   "cell_type": "markdown",
   "metadata": {},
   "source": [
    "# And now?"
   ]
  },
  {
   "cell_type": "code",
   "execution_count": null,
   "metadata": {},
   "outputs": [],
   "source": [
    "if True and (3 > 2 or 7 < 14 or (5 != 6)) :\n",
    "    print(\"I miauwed\")"
   ]
  },
  {
   "cell_type": "markdown",
   "metadata": {},
   "source": [
    "![](images/20221102164647.png)  "
   ]
  },
  {
   "cell_type": "markdown",
   "metadata": {},
   "source": [
    "# Out of nowhere, the grand kitty of function comes down to the surface, because for whatever reason, we was up in the air. \"I HAVE BEEN CALLED\" the kitty exclaims. You should probably write a function and call it to show your respect to the almighty kitty! **define** a function called pray_to_miauw that takes in as input a number_of_miauws, and prints \"Holy Miauw!\" as many times as the number that has been passed to the function. "
   ]
  },
  {
   "cell_type": "code",
   "execution_count": null,
   "metadata": {},
   "outputs": [],
   "source": [
    "number_of_miauws = 8\n",
    "\n",
    "# your function here\n",
    "\n",
    "\n",
    "# call your function\n",
    "pray_to_miauw(number_of_miauws)"
   ]
  },
  {
   "cell_type": "markdown",
   "metadata": {},
   "source": [
    "# The holy kitty feels praised, and sends you to the next realm, until then!"
   ]
  }
 ],
 "metadata": {
  "kernelspec": {
   "display_name": "Python 3.10.7 64-bit",
   "language": "python",
   "name": "python3"
  },
  "language_info": {
   "codemirror_mode": {
    "name": "ipython",
    "version": 3
   },
   "file_extension": ".py",
   "mimetype": "text/x-python",
   "name": "python",
   "nbconvert_exporter": "python",
   "pygments_lexer": "ipython3",
   "version": "3.10.7"
  },
  "orig_nbformat": 4,
  "vscode": {
   "interpreter": {
    "hash": "26de051ba29f2982a8de78e945f0abaf191376122a1563185a90213a26c5da77"
   }
  }
 },
 "nbformat": 4,
 "nbformat_minor": 2
}
