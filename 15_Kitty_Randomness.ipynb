{
 "cells": [
  {
   "cell_type": "code",
   "execution_count": null,
   "metadata": {},
   "outputs": [],
   "source": [
    "# Run this cell!\n",
    "!pip install matplotlib\n",
    "import matplotlib.pyplot as plt\n",
    "import collections\n",
    "import statistics\n",
    "\n",
    "def generate_barplot(number_dict):\n",
    "    sorted_dict = collections.OrderedDict(sorted(number_dict.items()))\n",
    "    plt.bar(range(len(sorted_dict)), list(sorted_dict.values()), align='center')\n",
    "    plt.xlabel(\"Numbers in our kitty_generator\")\n",
    "    plt.ylabel(\"Occurrences\")\n",
    "    plt.title(\"Random???\")\n",
    "    plt.xticks(range(len(sorted_dict)), list(sorted_dict.keys()))"
   ]
  },
  {
   "attachments": {},
   "cell_type": "markdown",
   "metadata": {},
   "source": [
    "# Kitty Randomness!\n",
    "\n",
    "![](images/20230112140712.png)  \n",
    "\n",
    "So this kitty has been using Python's random number generator, but he wants to check whether or not it's really random. For this you'll make two things: A random numbered list generator, and a function that converts it to a dictionary with counts.\n",
    "\n",
    "To not make things too complicated, we'll start with the random list generator first. Here are some helpful guidelines:\n",
    "\n",
    "* Create function called generate(a, b, n) \n",
    "* It must generate random INTEGERS between a and b, n times, packed together in a list. For this, use random.randint()\n",
    "* So generate(1, 3, 8) could generate something like [1, 2, 3, 2, 3, 1, 2, 2]\n",
    "* Don't forget to return the list!\n",
    "* Remember, you don't need to immediately make a function, you can try things out in a cell before you commit to a function\n",
    "\n",
    "Another little hint, you can do all of this in a SINGLE line ;)\n",
    "\n",
    "\n"
   ]
  },
  {
   "cell_type": "code",
   "execution_count": 28,
   "metadata": {},
   "outputs": [],
   "source": [
    "# Make your random number generator here!\n",
    "import random\n",
    "\n"
   ]
  },
  {
   "cell_type": "code",
   "execution_count": null,
   "metadata": {},
   "outputs": [],
   "source": []
  },
  {
   "cell_type": "code",
   "execution_count": 53,
   "metadata": {},
   "outputs": [
    {
     "data": {
      "text/plain": [
       "[3, 2, 1, 4]"
      ]
     },
     "execution_count": 53,
     "metadata": {},
     "output_type": "execute_result"
    }
   ],
   "source": [
    "# Example Solution\n",
    "\n",
    "\n",
    "\n",
    "\n",
    "\n",
    "\n",
    "\n",
    "\n",
    "\n",
    "\n",
    "\n",
    "\n",
    "\n",
    "\n",
    "\n",
    "\n",
    "def generate(a, b, n):\n",
    "    return [random.randint(a, b) for x in range(n)]\n",
    "\n",
    "generate(1, 4, 4)"
   ]
  },
  {
   "attachments": {},
   "cell_type": "markdown",
   "metadata": {},
   "source": [
    "# Part two\n",
    "\n",
    "![](images/20230112141721.png)  \n",
    "\n",
    "Good job! With his random list generator, the kitty has become the master of the fabric of the cosmos, as indicated by the \"9\" on his private parts, awesome! Now for the next part, this is something you already have some experience with. We're going to want to call our generate() function and store the list. Then we'll work on the following task:\n",
    "\n",
    "* Create a function called dict_counter(random_list) that takes as input any random list that we generate, and counts all the items in it. You may not use Counter() for this, do it using python.\n",
    "* The \"Keys\" of the dictionary will have to be integers, the values as well\n",
    "* So something like {1 : 200, 2: 399, ...}, where number one occurred 200 times, and number two 399 times. You won't need to order them, as the kitty already created a function that does all that for you.\n",
    "* For the love of wetfood, return the dictionary!\n",
    "\n",
    "Since the function the kitty made will plot all the number occurrences, it is advisable to not make \"a\" and \"b\" in generate(a, b, n) too large, as this will be weird to plot."
   ]
  },
  {
   "cell_type": "code",
   "execution_count": null,
   "metadata": {},
   "outputs": [],
   "source": [
    "# Work here\n"
   ]
  },
  {
   "cell_type": "code",
   "execution_count": null,
   "metadata": {},
   "outputs": [],
   "source": []
  },
  {
   "cell_type": "code",
   "execution_count": 64,
   "metadata": {},
   "outputs": [],
   "source": [
    "# Example solution\n",
    "\n",
    "\n",
    "\n",
    "\n",
    "\n",
    "\n",
    "\n",
    "\n",
    "\n",
    "\n",
    "\n",
    "\n",
    "random_list = generate(1, 10, 500)\n",
    "\n",
    "def dict_counter(random_list):\n",
    "    number_dict = {}\n",
    "    for num in random_list:\n",
    "        if num in number_dict:\n",
    "            number_dict[num] += 1\n",
    "        else:\n",
    "            number_dict[num] = 1\n",
    "    return number_dict\n",
    "\n",
    "\n",
    "occurrence_dict = dict_counter(random_list)"
   ]
  },
  {
   "attachments": {},
   "cell_type": "markdown",
   "metadata": {},
   "source": [
    "Great! Now for the pretty part, throw your dictionary into this function. If it doesn't work, run the top-most cell in this notebook again.\n",
    "\n",
    "* What happens when the amount of random numbers increase?\n",
    "* Do you see any bias?\n",
    "* What would adding a random seed do?"
   ]
  },
  {
   "cell_type": "code",
   "execution_count": null,
   "metadata": {},
   "outputs": [],
   "source": [
    "generate_barplot(occurrence_dict)"
   ]
  },
  {
   "attachments": {},
   "cell_type": "markdown",
   "metadata": {},
   "source": [
    "# Kitty Stats\n",
    "\n",
    "![](images/20230112152130.png)  \n",
    "\n",
    "Given the kitty's godlike status amongst his peers, he has now become a Nobel lauriate and has been studying his functions in the lab. He wants to make a function (although you'll make it....) that:\n",
    "\n",
    "* Takes a desired standard deviation\n",
    "* And keeps generating number lists until the standard deviation of the counts is of a certain size\n",
    "\n",
    "Your function will be called check_sd(sd) that takes in a desired standard deviation, and does not return anything. The generation can stop when the standard deviation of the random list is lower.\n"
   ]
  },
  {
   "cell_type": "code",
   "execution_count": 194,
   "metadata": {},
   "outputs": [
    {
     "name": "stdout",
     "output_type": "stream",
     "text": [
      "Example Count Dictionary:\t {1: 11, 8: 11, 9: 11, 7: 16, 4: 10, 6: 13, 2: 10, 3: 11, 5: 4, 10: 3}\n",
      "Example Occurrences:\t\t [22, 17, 20, 23, 18]\n",
      "Example STD:\t\t\t 0.5099019513592784\n"
     ]
    }
   ],
   "source": [
    "# Some example code to help\n",
    "\n",
    "random_list = generate(1, 10, 100)\n",
    "count_dict = dict_counter(random_list)\n",
    "print(\"Example Count Dictionary:\\t\", count_dict)\n",
    "\n",
    "# Example values of occurrences\n",
    "occurrences = [22, 17, 20, 23, 18]\n",
    "print(\"Example Occurrences:\\t\\t\", occurrences)\n",
    "\n",
    "# Getting the standard deviation:\n",
    "print(\"Example STD:\\t\\t\\t\", statistics.stdev(occurrences) / len(occurrences)) # DIVIDED BY N OCCURRENCES!!!\n"
   ]
  },
  {
   "attachments": {},
   "cell_type": "markdown",
   "metadata": {},
   "source": [
    "Your job is to:\n",
    "\n",
    "* Create a function called check_sd(sd)\n",
    "* Using a for loop (up to 5000 iterations), keeps generating number lists using your generate(a, b, n) function with higher n's each loop. START WITH N = 50\n",
    "* Every time, create a dictionary with counts\n",
    "* And finally, check if the standard deviation of those counts is lower or equal to the desired standard deviation. DIVIDE THE STANDARD DEVIATION BY \"n\"!!\n",
    "\n",
    "When you found the \"n\" at which the standard deviation is lower or equal to the desired amount, print your \"n\", and use our generate_barplot(dict) function to plot it. That's it!"
   ]
  },
  {
   "cell_type": "code",
   "execution_count": null,
   "metadata": {},
   "outputs": [],
   "source": [
    "# Work here, again, divide the standard deviation by N\n",
    "def check_sd(sd):\n",
    "    for loop in range(50, 5000):\n",
    "\n",
    "        # will print our number of loops every time\n",
    "        if loop % 500 == 0:\n",
    "            print(f\"[{loop}] loops..\")\n",
    "\n",
    "        # Now continue here\n",
    "        ..\n",
    "\n",
    "\n",
    "\n",
    "\n",
    "\n",
    "\n",
    "\n",
    "check_sd(0.002)"
   ]
  },
  {
   "cell_type": "code",
   "execution_count": null,
   "metadata": {},
   "outputs": [],
   "source": []
  },
  {
   "cell_type": "code",
   "execution_count": 211,
   "metadata": {},
   "outputs": [
    {
     "name": "stdout",
     "output_type": "stream",
     "text": [
      "[500] iterations..\n",
      "[1000] iterations..\n",
      "[1500] iterations..\n",
      "[2000] iterations..\n",
      "[2500] iterations..\n",
      "[3000] iterations..\n",
      "[3500] iterations..\n",
      "[4000] iterations..\n",
      "\n",
      " Found SD 0.002, at 4100 random samples!\n"
     ]
    },
    {
     "data": {
      "image/png": "[encoded data removed]",
      "text/plain": [
       "<Figure size 640x480 with 1 Axes>"
      ]
     },
     "metadata": {},
     "output_type": "display_data"
    }
   ],
   "source": [
    "# Example solution\n",
    "\n",
    "\n",
    "\n",
    "\n",
    "\n",
    "\n",
    "\n",
    "\n",
    "\n",
    "\n",
    "\n",
    "\n",
    "def check_sd(sd):\n",
    "    for iter in range(50, 5000):\n",
    "        if iter % 500 == 0:\n",
    "            print(f\"[{iter}] iterations..\")\n",
    "        random_list = generate(1, 10, iter + 50)\n",
    "        count_dict = dict_counter(random_list)\n",
    "        if statistics.stdev(list(count_dict.values())) / iter <= sd:\n",
    "            print(f\"\\n Found SD {sd}, at {iter} random samples!\")\n",
    "            generate_barplot(count_dict)\n",
    "            break\n",
    "\n",
    "check_sd(0.002)"
   ]
  }
 ],
 "metadata": {
  "kernelspec": {
   "display_name": "Python 3",
   "language": "python",
   "name": "python3"
  },
  "language_info": {
   "codemirror_mode": {
    "name": "ipython",
    "version": 3
   },
   "file_extension": ".py",
   "mimetype": "text/x-python",
   "name": "python",
   "nbconvert_exporter": "python",
   "pygments_lexer": "ipython3",
   "version": "3.10.6"
  },
  "orig_nbformat": 4,
  "vscode": {
   "interpreter": {
    "hash": "4ebb652c7e935075b0a422c0d1b433309994f32ed4cfc553b7cfde93326650e0"
   }
  }
 },
 "nbformat": 4,
 "nbformat_minor": 2
}
