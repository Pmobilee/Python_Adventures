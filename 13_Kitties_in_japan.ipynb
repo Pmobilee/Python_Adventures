{
 "cells": [
  {
   "cell_type": "markdown",
   "metadata": {},
   "source": [
    "# Library Kitty\n",
    "\n",
    "![](images/20230103185102.png)  \n",
    "\n",
    "This kitty works as a librarian at the local library. He told me you wanted to get into datascience, but for this, you'll first need to be acquainted with file input/output. To do this, let's first try to read from a simple .txt file:"
   ]
  },
  {
   "cell_type": "markdown",
   "metadata": {},
   "source": [
    "## Note: The following exercises are convoluted and not always optimal. They were just presented in a way to teach you some basics. Also, the final part will analyze a book called Huckleberry Finn, which I just happened to have at hand. It contains language people may find offensive, especially the N-word. For this reason, I wouldn't go ahead and read a chapter live on stream ;)"
   ]
  },
  {
   "cell_type": "code",
   "execution_count": 35,
   "metadata": {},
   "outputs": [],
   "source": [
    "# First we get our current working directory, just like in R\n",
    "import os\n",
    "cwd = os.getcwd()\n",
    "\n",
    "# Then, we CREATE a file that does not exist at this moment:\n",
    "with open(\"data/Kitty_demo.txt\", \"w\") as f: # note the data/, we put it in the data folder\n",
    "    f.write(\"A Little test string\")\n"
   ]
  },
  {
   "cell_type": "markdown",
   "metadata": {},
   "source": [
    "You can see the created file in the explorer bar to the left, vscode can open it for you. Now we did \"w\", which stands for write. Why don't we read it this time with \"r\" and print the contents?"
   ]
  },
  {
   "cell_type": "code",
   "execution_count": null,
   "metadata": {},
   "outputs": [],
   "source": [
    "with open(\"data/Kitty_demo.txt\", \"r\") as f: \n",
    "    content = f.read()\n",
    "\n",
    "print(content)"
   ]
  },
  {
   "cell_type": "markdown",
   "metadata": {},
   "source": [
    "Awesome! Now, let's use the append \"a\" mode, to append another line. We can use write again, and add a \\n to put this on a new line."
   ]
  },
  {
   "cell_type": "code",
   "execution_count": null,
   "metadata": {},
   "outputs": [],
   "source": [
    "with open(\"data/Kitty_demo.txt\", \"a\") as f: \n",
    "    f.write(\"\\nAnother Little test string\")\n",
    "\n",
    "# A little convoluted, but we'll open the file again and print to console\n",
    "with open(\"data/Kitty_demo.txt\", \"r\") as f: \n",
    "    content = f.read()\n",
    "    print(content)"
   ]
  },
  {
   "cell_type": "markdown",
   "metadata": {},
   "source": [
    "Great! Now let's use writelines() instead of write, to write all the items of a list I've made. Important, we'll switch back to **write \"w\"** instead of **append \"a\"**, which means we won't add to the file, but completely overwrite it from scratch."
   ]
  },
  {
   "cell_type": "code",
   "execution_count": null,
   "metadata": {},
   "outputs": [],
   "source": [
    "miauw_list = [\"\\nI\", \"\\nLove\", \"\\nWetfood!\"]\n",
    "\n",
    "with open(\"data/Kitty_demo.txt\", \"w\") as f: \n",
    "    f.writelines(miauw_list)\n",
    "\n",
    "# A little convoluted, but we'll open the file again and print to console\n",
    "with open(\"data/Kitty_demo.txt\", \"r\") as f: \n",
    "    content = f.read()\n",
    "    print(content)"
   ]
  },
  {
   "cell_type": "markdown",
   "metadata": {},
   "source": [
    "That was your little file writing demo, I hope you liked it!"
   ]
  },
  {
   "cell_type": "markdown",
   "metadata": {},
   "source": [
    "# Library helper kitties\n",
    "\n",
    "![](images/20230103190151.png)  \n",
    "\n",
    "This time, a couple younger kitties will be helping you, although you'll need to do the bulk yourself. Since you now have a file called kitty_demo.txt, made by the head librarian, it is time you tried to change it. Without writing the entire contents from scratch, change only the part with \"wetfood!\" to \"books!\". Use your own helper kitties in the chat if required! Or use chatGPT."
   ]
  },
  {
   "cell_type": "code",
   "execution_count": 41,
   "metadata": {},
   "outputs": [],
   "source": [
    "# If something goes wrong you can reset the file here:\n",
    "with open(\"data/Kitty_demo.txt\", \"w\") as f: \n",
    "    f.writelines(miauw_list)"
   ]
  },
  {
   "cell_type": "code",
   "execution_count": null,
   "metadata": {},
   "outputs": [],
   "source": [
    "# Work here\n",
    "file = \"data/Kitty_demo.txt\""
   ]
  },
  {
   "cell_type": "markdown",
   "metadata": {},
   "source": [
    "# Kittyberry Finn\n",
    "\n",
    "![](images/20230103190954.png)  \n",
    "\n",
    "Next, this kitty really likes one of the most popular books by Miauwk Twain, namely Huckleberry Finn. You can load it with the code below"
   ]
  },
  {
   "cell_type": "code",
   "execution_count": 76,
   "metadata": {},
   "outputs": [],
   "source": [
    "with open(\"data/HuckFinn.txt\", \"r\", encoding=\"utf-8\") as f: \n",
    "    content = f.read()\n",
    "    content = content.replace(\"--\", \" \")"
   ]
  },
  {
   "cell_type": "markdown",
   "metadata": {},
   "source": [
    "After reading it so many times, the kitty would really just like to have some statistics regarding the words in the book. For this, you'll first have to clean it up manually. Start by removing all new lines (\"\\n\"). You don't need to replace them with spaces or anything."
   ]
  },
  {
   "cell_type": "code",
   "execution_count": null,
   "metadata": {},
   "outputs": [],
   "source": [
    "# Work here\n"
   ]
  },
  {
   "cell_type": "markdown",
   "metadata": {},
   "source": [
    "Great, now do it again, but for all the following characters"
   ]
  },
  {
   "cell_type": "code",
   "execution_count": null,
   "metadata": {},
   "outputs": [],
   "source": [
    "removal_characters = [\",\", \".\", \"'\", '\"', \";\"]\n",
    "\n",
    "# Work here\n"
   ]
  },
  {
   "cell_type": "markdown",
   "metadata": {},
   "source": [
    "Awesome, now you should split all of the words! Think about what character would work to split on."
   ]
  },
  {
   "cell_type": "code",
   "execution_count": 78,
   "metadata": {},
   "outputs": [],
   "source": [
    "# Work here\n",
    "\n"
   ]
  },
  {
   "cell_type": "markdown",
   "metadata": {},
   "source": [
    "Keep it going! Now for the actual fun part, let's create some code that will count all our words that we have! Since you're becoming more advanced, you won't get many help for this one. Although this type of exercise does scream for a dictionary approach, don't you think. Also, to any smartasses in the chat, no we won't use Counter or anything like that, we'll do it manually!"
   ]
  },
  {
   "cell_type": "code",
   "execution_count": null,
   "metadata": {},
   "outputs": [],
   "source": [
    "# Work here\n"
   ]
  },
  {
   "cell_type": "markdown",
   "metadata": {},
   "source": [
    "# Most viewed words\n",
    "\n",
    "![](images/20230103193045.png)  \n",
    "\n",
    "Two.. Kitty.. Medical?? statisticians want to figure out what the most common words are. (Yes this was my best render in the time I had)\n",
    "\n",
    "Good job. Now that we have our counted words, let's sort the dictionary by the count value! Note, a dictionary by itself is by definition not sortable, as the keys aren't hashable. However, there are several ways to do this by creating a second dictionary from the first one. Make this second dictionary (or any other way), and find the top 5 most common words. \n",
    "\n",
    "I apologize in advance if they are vulgar, I highly doubt it given the statistics of words in the english language, but I didn't explicitly check."
   ]
  },
  {
   "cell_type": "code",
   "execution_count": null,
   "metadata": {},
   "outputs": [],
   "source": [
    "# Work here\n",
    "\n"
   ]
  },
  {
   "cell_type": "markdown",
   "metadata": {},
   "source": [
    "# Word lengths\n",
    "\n",
    "![](images/20230103194954.png)  \n",
    "\n",
    "Your final task involves figuring out all the lengths of the words you split earlier. Take each word, and store the length of it. Using this do the following:\n",
    "\n",
    "Calculate the smallest length:"
   ]
  },
  {
   "cell_type": "code",
   "execution_count": null,
   "metadata": {},
   "outputs": [],
   "source": [
    "# Work here"
   ]
  },
  {
   "cell_type": "markdown",
   "metadata": {},
   "source": [
    "And the longest:"
   ]
  },
  {
   "cell_type": "code",
   "execution_count": null,
   "metadata": {},
   "outputs": [],
   "source": [
    "# Work here"
   ]
  },
  {
   "cell_type": "markdown",
   "metadata": {},
   "source": [
    "Now calculate the average length, to make the kitty happy!"
   ]
  },
  {
   "cell_type": "code",
   "execution_count": null,
   "metadata": {},
   "outputs": [],
   "source": [
    "# Work here"
   ]
  },
  {
   "cell_type": "markdown",
   "metadata": {},
   "source": [
    "## Good job! Now you can continue thinking up some other statistics, or do some edabit questions!"
   ]
  }
 ],
 "metadata": {
  "kernelspec": {
   "display_name": "Python 3.10.6 64-bit",
   "language": "python",
   "name": "python3"
  },
  "language_info": {
   "codemirror_mode": {
    "name": "ipython",
    "version": 3
   },
   "file_extension": ".py",
   "mimetype": "text/x-python",
   "name": "python",
   "nbconvert_exporter": "python",
   "pygments_lexer": "ipython3",
   "version": "3.10.6"
  },
  "orig_nbformat": 4,
  "vscode": {
   "interpreter": {
    "hash": "4ebb652c7e935075b0a422c0d1b433309994f32ed4cfc553b7cfde93326650e0"
   }
  }
 },
 "nbformat": 4,
 "nbformat_minor": 2
}
