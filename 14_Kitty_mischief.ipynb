{
 "cells": [
  {
   "attachments": {},
   "cell_type": "markdown",
   "metadata": {},
   "source": [
    "# Kitty Mischief"
   ]
  },
  {
   "attachments": {},
   "cell_type": "markdown",
   "metadata": {},
   "source": [
    "# 1. Waterballoon fight\n",
    "\n",
    "![](images/0230110162003.png)  \n",
    "\n",
    "This kitty likes to do waterballoon fights. After having thrown one at his programming teacher, he has to write a funciton as punishment! However, he's a bad little kitty and he's asked you to write it for him! Here's what you need to do:\n",
    "\n",
    "* Make a function called pop() that takes in a list of the pre-waterballoon-pop state and returns the final state, take a look at the following examples:\n",
    "\n",
    "```python\n",
    "pop([0, 0, 0, 0, 4, 0, 0, 0, 0]) ➞ [0, 1, 2, 3, 4, 3, 2, 1, 0]\n",
    "pop([0, 0, 0, 3, 0, 0, 0]) ➞ [0, 1, 2, 3, 2, 1, 0]\n",
    "pop([0, 0, 2, 0, 0]) ➞ [0, 1, 2, 1, 0]\n",
    "pop([0]) ➞ [0]\n",
    "```\n",
    "\n",
    "* You'll need to add spash heights around the main center basically"
   ]
  },
  {
   "cell_type": "code",
   "execution_count": null,
   "metadata": {},
   "outputs": [],
   "source": [
    "# Work here\n",
    "\n",
    "def pop(pre_splash):\n",
    "    "
   ]
  },
  {
   "cell_type": "code",
   "execution_count": null,
   "metadata": {},
   "outputs": [],
   "source": [
    "# test\n",
    "\n",
    "class Test():\n",
    "    def assert_equals(a, b):\n",
    "        return a == b\n",
    "\n",
    "Test.assert_equals(pop([0, 0, 0, 0, 0, 5, 0, 0, 0, 0, 0]), [0, 1, 2, 3, 4, 5, 4, 3, 2, 1, 0])\n",
    "Test.assert_equals(pop([0, 0, 0, 0, 4, 0, 0, 0, 0]), [0, 1, 2, 3, 4, 3, 2, 1, 0])\n",
    "Test.assert_equals(pop([0, 0, 0, 3, 0, 0, 0]), [0, 1, 2, 3, 2, 1, 0])\n",
    "Test.assert_equals(pop([0, 0, 2, 0, 0]), [0, 1, 2, 1, 0])\n",
    "Test.assert_equals(pop([0, 1, 0]), [0, 1, 0])\n",
    "Test.assert_equals(pop([0]), [0])"
   ]
  },
  {
   "cell_type": "code",
   "execution_count": 2,
   "metadata": {},
   "outputs": [],
   "source": [
    "# Example\n",
    "def pop(state):\n",
    "\tm = max(state)\n",
    "\treturn list(range(m)) + list(range(m,-1,-1))\n",
    "\n",
    "def pop(state):\n",
    "\tground = list(range(max(state) + 1))\n",
    "\treturn ground + ground[::-1][1:]"
   ]
  },
  {
   "attachments": {},
   "cell_type": "markdown",
   "metadata": {},
   "source": [
    "# Wrapper kitty\n",
    "\n",
    "![](images/20230110162827.png)  \n",
    "\n",
    "This kitty likes things that wrap around, words included. Could you make a function for her that \"wraps\" the word according to a certain position? \n",
    "* a word like \"ca**r**e\" wrapped at position 2 will be \"**r**eca\". The word will start a position 2 (the \"r\") and finish the word (\"re~\") and then *wrap* the skipped part of the word (\"~ca\") around it. \n",
    "  \n",
    "  Examples:\n",
    "\n",
    "```python\n",
    "wrap_around(\"Hello, World!\", 2) ➞ \"llo, World!He\"\n",
    "wrap_around(\"From what I gathered\", -4) ➞ \"eredFrom what I gath\"\n",
    "wrap_around(\"Excelsior\", 30) ➞ \"elsiorExc\"\n",
    "wrap_around(\"Nonscience\", -116) ➞ \"cienceNons\"\n",
    "```\n",
    "\n",
    "Important:\n",
    "* The position can be negative!\n",
    "* The position can be greater than the length of the word! (see the 3rd example)"
   ]
  },
  {
   "cell_type": "code",
   "execution_count": null,
   "metadata": {},
   "outputs": [],
   "source": [
    "# Work here\n",
    "\n",
    "def wrap_around(string, position):\n",
    "    "
   ]
  },
  {
   "cell_type": "code",
   "execution_count": null,
   "metadata": {},
   "outputs": [],
   "source": [
    "# Test here\n",
    "\n",
    "class Test():\n",
    "    def assert_equals(a, b):\n",
    "        return a == b\n",
    "\n",
    "Test.assert_equals(wrap_around(\"Hello, World!\", 2,), \"llo, World!He\")\n",
    "Test.assert_equals(wrap_around(\"From what I gathered\", -4), \"eredFrom what I gath\")\n",
    "Test.assert_equals(wrap_around(\"No Changes\", 0), \"No Changes\")\n",
    "Test.assert_equals(wrap_around(\"S\", -60), \"S\")\n",
    "Test.assert_equals(wrap_around(\"Subordinating\", 2), \"bordinatingSu\")\n",
    "Test.assert_equals(wrap_around(\"Assemblywomen\", -6), \"ywomenAssembl\")\n",
    "Test.assert_equals(wrap_around(\"Pedantic\", 4), \"nticPeda\")\n",
    "Test.assert_equals(wrap_around(\"Nonscience\", -116), \"cienceNons\")\n",
    "Test.assert_equals(wrap_around(\"Excelsior\", 30), \"elsiorExc\")\n",
    "Test.assert_equals(wrap_around(\"Incomprehensibilities\", 50), \"hensibilitiesIncompre\")\n"
   ]
  },
  {
   "cell_type": "code",
   "execution_count": 4,
   "metadata": {},
   "outputs": [],
   "source": [
    "# Examples\n",
    "\n",
    "def wrap_around(s, offset):\n",
    "    if offset >= 0:\n",
    "        start = offset % len(s)\n",
    "        return s[start:] + s[:start]\n",
    "    start = -offset % len(s)\n",
    "    return s[len(s) - start:] + s[:len(s) - start]\n",
    "\n",
    "\n",
    "def wrap_around(string, offset):\n",
    "\toffset = offset % len(string)\n",
    "\treturn string[offset:] + string[:offset]"
   ]
  },
  {
   "attachments": {},
   "cell_type": "markdown",
   "metadata": {},
   "source": [
    "# Kitty hacker\n",
    "\n",
    "![](images/20230110165851.png)  \n",
    "\n",
    "\n",
    "This kitty likes to hack passwords. Since he wants better wifi, he decides to hack the wifi password of his elderly neighbours, they only watch live TV anyway! They have a simple one-letter password, so you'll need to help him by:\n",
    "\n",
    "* Making a function that takes a \"hidden\" password\n",
    "* Generates a password between (and including) letters \"a\" and  \"z\"\n",
    "* Returns a LIST of CHARACTER NUMBERS of the correct password\n",
    "\n",
    "To convert a number to a letter, you can do chr(97), which equals \"a\". chr(122) corresponds to \"z\". All other letters will be between 97 and 122.\n",
    "\n",
    "Example:\n",
    "\n",
    "```python\n",
    "password = \"c\"\n",
    "return [99]\n",
    "```\n",
    "\n",
    "**ALSO:** This exercise could easily be cheated by just converting the hidden password to a number, and returning that. This is NOT what you should do, you actually need to iterate (bruteforce) through all possible passwords."
   ]
  },
  {
   "cell_type": "code",
   "execution_count": null,
   "metadata": {},
   "outputs": [],
   "source": [
    "# Work here\n",
    "import random\n",
    "\n",
    "def password_crack(hidden_password):\n",
    "    password = random.randint(97, 123) # Generating random password\n",
    "\n",
    "    for iteration in range(100): # Although a while loop may be preferred, we'll do a for loop so your pc wont get stuck!\n",
    "        ..\n",
    "\n"
   ]
  },
  {
   "cell_type": "code",
   "execution_count": null,
   "metadata": {},
   "outputs": [],
   "source": [
    "# Test here\n",
    "\n",
    "class Test():\n",
    "    def assert_equals(a, b):\n",
    "        return a == b\n",
    "\n",
    "Test.assert_equals(password_crack(\"a\"), [97])\n",
    "Test.assert_equals(password_crack(\"g\"), [103])\n",
    "Test.assert_equals(password_crack(\"f\"), [102])\n",
    "Test.assert_equals(password_crack(\"z\"), [122])\n",
    "\n"
   ]
  },
  {
   "cell_type": "code",
   "execution_count": 48,
   "metadata": {},
   "outputs": [],
   "source": [
    "# Example:\n",
    "import random\n",
    "\n",
    "def generate_password():\n",
    "    return [random.randint(97, 123)]\n",
    "\n",
    "hidden_password = generate_password()\n",
    "\n",
    "def password_crack(hidden_password):\n",
    "    generated_password = [97]\n",
    "\n",
    "    for iteration in range(100): # Although a while loop may be preferred, we'll do a for loop so your pc wont get stuck!\n",
    "        if chr(generated_password[0]) == hidden_password:\n",
    "            return generated_password\n",
    "        else:\n",
    "            generated_password[0] += 1\n"
   ]
  },
  {
   "attachments": {},
   "cell_type": "markdown",
   "metadata": {},
   "source": [
    "# Kitty hacker, different neighbours\n",
    "\n",
    "![](images/20230110181305.png)  \n",
    "\n",
    "\n",
    "**I tried making a more complex password cracking exercise but it turned out a bit too complex. So sorry if this exercise seems weird, don't be angry :'( !**\n",
    "\n",
    "\n",
    "So the neighbours found out and they ended their wifi subscription since they didn't need it anyway.. So now the hacker kitty has to turn to his other neighbour's wifi. This one is of 4 *numbers*, ranging from 97 to 122. This is what you'll do:\n",
    "\n",
    "* You have a hidden password containing 4 numbers\n",
    "* Try all numbers for 4th digit until it reaches 122\n",
    "* Then continue with the 3rd digit and go up to 122 again, keep the 4th at 122\n",
    "* Continue with the second.. again, keep the 3rd and 4th at 122\n",
    "\n",
    "These are possible passwords:\n",
    "```python\n",
    "hidden_password = [97, 97, 97, 108]\n",
    "hidden_password = [97, 97, 108, 122]\n",
    "hidden_password = [97, 108, 122, 122]\n",
    "hidden_password = [108, 122, 122, 122]\n",
    "```\n",
    "\n",
    "If you like this exercise, we can do a follow up for the other neighbours, that will require us to try all possible combinations of 26 letters, so 26x26x26x26 = 456.976 different combinations!"
   ]
  },
  {
   "cell_type": "code",
   "execution_count": 438,
   "metadata": {},
   "outputs": [
    {
     "name": "stdout",
     "output_type": "stream",
     "text": [
      "[97, 116, 122, 122]\n"
     ]
    }
   ],
   "source": [
    "# GENERATE PASSWORD HERE\n",
    "import random\n",
    "\n",
    "# Terrible but quick password generator\n",
    "def generate_long_password():\n",
    "    password = []\n",
    "    rand = random.randint(2, 4)\n",
    "    for i in range(rand):\n",
    "        password.append(122)\n",
    "    if rand == 2:\n",
    "        password.append(random.randint(97, 122))\n",
    "        password.append(97)\n",
    "    elif rand == 3:\n",
    "        password.append(random.randint(97, 122))\n",
    "    \n",
    "    if password == [122, 122, 122, 122]:\n",
    "        password[3] = random.randint(97, 122)\n",
    "        return password[::-1]\n",
    "    else: \n",
    "        return password[::-1]\n",
    "\n",
    "hidden_password = generate_long_password()\n",
    "print(hidden_password)"
   ]
  },
  {
   "cell_type": "code",
   "execution_count": null,
   "metadata": {},
   "outputs": [],
   "source": [
    "# Work here\n",
    "\n",
    "def password_long_crack(hidden_password):\n",
    "    .."
   ]
  },
  {
   "cell_type": "code",
   "execution_count": null,
   "metadata": {},
   "outputs": [],
   "source": [
    "# Test here\n",
    "\n",
    "assert(password_long_crack([109, 122, 122, 122]) == [109, 122, 122, 122])"
   ]
  },
  {
   "cell_type": "code",
   "execution_count": null,
   "metadata": {},
   "outputs": [],
   "source": [
    "# Example solution\n",
    "\n",
    "def password_long_crack(hidden_password):\n",
    "    generated = [97, 97, 97, 97]\n",
    "    for iteration in range(456976):\n",
    "        if generated == hidden_password:\n",
    "            print(\"Done!\")\n",
    "            return generated\n",
    "        else:\n",
    "            if generated[3] == 122:\n",
    "                if generated[2] == 122:\n",
    "                    if generated[1] == 122:\n",
    "                        generated[0] += 1\n",
    "                    else: generated[1] += 1\n",
    "                else: generated[2] += 1\n",
    "            else: generated[3] += 1\n",
    "\n",
    "password_long_crack(hidden_password)"
   ]
  },
  {
   "attachments": {},
   "cell_type": "markdown",
   "metadata": {},
   "source": [
    "# Again, sorry for the weird exercise, I made something completely different and then just Frankensteined this. If you want a more complex password cracker, let me know!"
   ]
  }
 ],
 "metadata": {
  "kernelspec": {
   "display_name": "Python 3",
   "language": "python",
   "name": "python3"
  },
  "language_info": {
   "codemirror_mode": {
    "name": "ipython",
    "version": 3
   },
   "file_extension": ".py",
   "mimetype": "text/x-python",
   "name": "python",
   "nbconvert_exporter": "python",
   "pygments_lexer": "ipython3",
   "version": "3.10.6"
  },
  "orig_nbformat": 4,
  "vscode": {
   "interpreter": {
    "hash": "4ebb652c7e935075b0a422c0d1b433309994f32ed4cfc553b7cfde93326650e0"
   }
  }
 },
 "nbformat": 4,
 "nbformat_minor": 2
}
