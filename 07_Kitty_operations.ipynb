{
 "cells": [
  {
   "cell_type": "markdown",
   "metadata": {},
   "source": [
    "# Recap: The war with the dogs is underway, and the kitties are preparing! You must help them with their final preparations."
   ]
  },
  {
   "cell_type": "markdown",
   "metadata": {},
   "source": [
    "We have a bunch of kitties that came up to us for your help. Hopefully you can introduce great code to help them."
   ]
  },
  {
   "cell_type": "markdown",
   "metadata": {},
   "source": [
    "#### KittyParcel delivery\n",
    "\n",
    "![](images/20221124092123.png)  \n",
    "\n",
    "\n",
    "You need to help the kitties with their postage centers! Since the war with the dogs will start soon, we must quickly establish a delivery system. Please implement the following prices:\n",
    "\n",
    "\n",
    "| Tariff zone | 0 - 10 kg | > 10 kg |\n",
    "|-------------|----------|----------|\n",
    "|EUR 1 | € 13.00 | € 19.50 |\n",
    "|EUR 2 | € 18.50 | € 25.00 |\n",
    "|World | € 24.30 | € 34.30 |\n",
    "\n",
    "Ask a kitty for the `weight` and `zone`. Print the result using a full sentence:\n",
    "\n",
    "`The price of sending a [...] kg parcel to the [...] zone is € [...].`\n",
    "\n",
    "Try to do it in the least amount of code possible, perhaps by using a dictionary or something?"
   ]
  },
  {
   "cell_type": "code",
   "execution_count": 539,
   "metadata": {},
   "outputs": [],
   "source": [
    "# Work here...\n",
    "\n"
   ]
  },
  {
   "cell_type": "code",
   "execution_count": 540,
   "metadata": {},
   "outputs": [
    {
     "name": "stdout",
     "output_type": "stream",
     "text": [
      "The price of sending a 11.00 kg parcel to the EUR 2 zone is € 25.00.\n"
     ]
    }
   ],
   "source": [
    "# Example solution:\n",
    "\n",
    "# Example input:\n",
    "zone = \"EUR 2\"\n",
    "weight = 11  # Kg\n",
    "\n",
    "\n",
    "price_dict = {\n",
    "    \"EUR 1\" : [13.00, 19.50],\n",
    "    \"EUR 2\" : [18.50, 25.00],\n",
    "    \"World\" : [24.30, 34.30]\n",
    "}\n",
    "\n",
    "weight_class = 0 if weight <= 10 else 1\n",
    "\n",
    "# THe \":.2f\" means \"format this float value to have two decimals\"\n",
    "print(f\"The price of sending a {weight:.2f} kg parcel to the {zone} zone is € {price_dict[zone][weight_class]:.2f}.\")\n"
   ]
  },
  {
   "cell_type": "markdown",
   "metadata": {},
   "source": [
    "# Kitty party\n",
    "\n",
    "![](images/20221124092257.png)  \n",
    "\n",
    "The kitties are really happy with your new delivery system. Which is why they made a song:\n",
    "\n",
    "The song's simple lyrics are as follows:\n",
    "\n",
    "    99 bowls of wetfood on the ground,\n",
    "    99 bowls of wetfood.\n",
    "    Take one down, pass it around,\n",
    "    98 bowls of wetfood on the ground.\n",
    "\n",
    "The same verse is repeated, each time with one fewer bowl of wetfood :(. The song\n",
    "is completed when the singer or singers reach zero. After the last bowl\n",
    "is taken down and passed around, there is a special verse where they go to the store:\n",
    "\n",
    "    No more bowls of wetfood on the ground,\n",
    "    no more bowls of wetfood.\n",
    "    Go to the animalstore and buy some more,\n",
    "    99 bowls of wetfood on the ground.\n",
    "\n",
    "\n",
    "However, you can no longer stand their maiuw-singing, and they keep forgetting the count of bowls. You decide to write a function that will display the lyrics for them, how nice!\n",
    "\n",
    "So you'll need to:\n",
    "\n",
    "<ul>\n",
    "    <li>0. Write a function that takes **number_of_bowls** as input (from what number of bowls to count down from)</li>\n",
    "    <li>1. Write the song going from that number to 1</li>\n",
    "    <li>2. Optional: when there's one bowl left, write \"bowl\" instead of \"bowls\"</li>\n",
    "    <li>3. When it reaches 0, write the second verse, and print the last line with 99 bowls</li>\n",
    "</ul>"
   ]
  },
  {
   "cell_type": "code",
   "execution_count": 541,
   "metadata": {},
   "outputs": [],
   "source": [
    "# Work here.."
   ]
  },
  {
   "cell_type": "code",
   "execution_count": 542,
   "metadata": {},
   "outputs": [
    {
     "name": "stdout",
     "output_type": "stream",
     "text": [
      "3 bowls of wetfood on the ground,\n",
      "3 bowls of wetfood.\n",
      "Take one down, pass it around,\n",
      "2 bowls of wetfood on the ground.\n",
      "\n",
      "2 bowls of wetfood on the ground,\n",
      "2 bowls of wetfood.\n",
      "Take one down, pass it around,\n",
      "1 bowl of wetfood on the ground.\n",
      "\n",
      "1 bowl of wetfood on the ground,\n",
      "1 bowl of wetfood.\n",
      "Take one down, pass it around,\n",
      "no more  bowls of wetfood on the ground.\n",
      "\n",
      "No more bowls of wetfood on the ground,\n",
      "no more bowls of wetfood.\n",
      "Go to the animalstore and buy some more,\n",
      "99 bowls of wetfood on the ground.\n",
      "\n"
     ]
    }
   ],
   "source": [
    "# Example solution:\n",
    "\n",
    "def wetfood_song(number_of_bowls):\n",
    "    for number in range(number_of_bowls, -1, -1):\n",
    "\n",
    "        if number == 0:\n",
    "            print('No more bowls of wetfood on the ground,')\n",
    "            print('no more bowls of wetfood.')\n",
    "            print(\"Go to the animalstore and buy some more,\")\n",
    "            print(\"99 bowls of wetfood on the ground.\\n\")\n",
    "\n",
    "        elif number == 1:\n",
    "            print(number, 'bowl of wetfood on the ground,')\n",
    "            print(number, 'bowl of wetfood.')\n",
    "            print(\"Take one down, pass it around,\")\n",
    "            print(number - 1 if number != 1 else \"no more \", 'bowls of wetfood on the ground.\\n')\n",
    "\n",
    "        else:\n",
    "            print(number, 'bowl' if number == 1 else 'bowls', 'of wetfood on the ground,')\n",
    "            print(number, 'bowl' if number == 1 else 'bowls', 'of wetfood.')\n",
    "            print(\"Take one down, pass it around,\")\n",
    "            print(number - 1 if number != 1 else \"no more \", 'bowl' if number == 2 else 'bowls' , 'of wetfood on the ground.\\n')\n",
    "\n",
    "wetfood_song(3)"
   ]
  },
  {
   "cell_type": "markdown",
   "metadata": {},
   "source": [
    "# Kitty Kill sampling!\n",
    "\n",
    "![](images/20221124093204.png)  "
   ]
  },
  {
   "cell_type": "markdown",
   "metadata": {},
   "source": [
    "Okay, I won't lie, this task is very difficult. You see, we have a bunch of kitties with a certain kill count in the war against the dogs. Below is the code that determines the list of mean kills for 25 days:"
   ]
  },
  {
   "cell_type": "code",
   "execution_count": 543,
   "metadata": {},
   "outputs": [
    {
     "name": "stdout",
     "output_type": "stream",
     "text": [
      "Kitty 0 has a mean of 22.8\n",
      "Kitty 1 has a mean of 21.4\n",
      "Kitty 2 has a mean of 30.68\n",
      "Kitty 3 has a mean of 36.28\n",
      "Kitty 4 has a mean of 30.6\n"
     ]
    }
   ],
   "source": [
    "import random\n",
    "import numpy as np\n",
    "\n",
    "kitty_0 = random.sample(range(random.randint(0, 10), random.randint(40, 70)), 25)\n",
    "kitty_1 = random.sample(range(random.randint(0, 10), random.randint(40, 70)), 25)\n",
    "kitty_2 = random.sample(range(random.randint(0, 10), random.randint(40, 70)), 25)\n",
    "kitty_3 = random.sample(range(random.randint(0, 10), random.randint(40, 70)), 25)\n",
    "kitty_4 = random.sample(range(random.randint(0, 10), random.randint(40, 70)), 25)\n",
    "\n",
    "list_of_kitties = [kitty_0, kitty_1, kitty_2, kitty_3, kitty_4]\n",
    "\n",
    "for i in range(len(list_of_kitties)):\n",
    "    print(f\"Kitty {i} has a mean of {np.mean(list_of_kitties[i])}\")"
   ]
  },
  {
   "cell_type": "markdown",
   "metadata": {},
   "source": [
    "You may re-run the code above until there's a clear winner!"
   ]
  },
  {
   "cell_type": "markdown",
   "metadata": {},
   "source": [
    "Now it is up to you to make code that SAMPLES each kitty 1000 times, calculates the average, and then prints which kitty has probably won!\n",
    "\n",
    "This is a form of Monte Carlo sampling, and is very efficient for large polynomial problems, like chess games. You sample an outcome and you base your \"best move\" or \"best kitty\" on the average of those samples."
   ]
  },
  {
   "cell_type": "markdown",
   "metadata": {},
   "source": [
    "So to summarize:\n",
    "\n",
    "You have a list_of_kitties, where each kitty has a list of average kills. For every kitty in that list, you must take a random element (code is shown below) and save it, then do that again for 1000 times. At the end, you use np.mean() to find the means of all the SAMPLED lists. That's how you'll determine the winner. At 1000 samples, your sampled mean will be a very close estimation to the true mean that we see above."
   ]
  },
  {
   "cell_type": "code",
   "execution_count": 544,
   "metadata": {},
   "outputs": [
    {
     "name": "stdout",
     "output_type": "stream",
     "text": [
      "Sample: 2\n"
     ]
    }
   ],
   "source": [
    "# To get a random value:\n",
    "kitty = 0\n",
    "sample = list_of_kitties[kitty][random.randint(0, 24)]\n",
    "print(\"Sample:\", sample)"
   ]
  },
  {
   "cell_type": "code",
   "execution_count": 545,
   "metadata": {},
   "outputs": [],
   "source": [
    "# If you want to use a dictionary, instead of only lists, here is some code you could use:\n",
    "kitty_samples_dict = {\n",
    "    \"Kitty 0\" : [],\n",
    "    \"Kitty 1\" : [],\n",
    "    \"Kitty 2\" : [],\n",
    "    \"Kitty 3\" : [],\n",
    "    \"Kitty 4\": []\n",
    "}"
   ]
  },
  {
   "cell_type": "code",
   "execution_count": 546,
   "metadata": {},
   "outputs": [],
   "source": [
    "# Good luck private!\n",
    "..."
   ]
  },
  {
   "cell_type": "code",
   "execution_count": 556,
   "metadata": {},
   "outputs": [
    {
     "name": "stdout",
     "output_type": "stream",
     "text": [
      "Our winner is Kitty 3 with a mean score of 35.707\n"
     ]
    }
   ],
   "source": [
    "# Example solution:\n",
    "\n",
    "kitty_samples_dict = {\n",
    "    \"Kitty 0\" : [],\n",
    "    \"Kitty 1\" : [],\n",
    "    \"Kitty 2\" : [],\n",
    "    \"Kitty 3\" : [],\n",
    "    \"Kitty 4\": []\n",
    "}\n",
    "\n",
    "for kitty in range(len(list_of_kitties)):\n",
    "    for i in range(1000):\n",
    "        # Get a sample\n",
    "        sample = list_of_kitties[kitty][random.randint(0, 24)]\n",
    "\n",
    "        # Add to that kitty dictionary\n",
    "        kitty_samples_dict[f\"Kitty {kitty}\"].append(sample)\n",
    "\n",
    "best = 0\n",
    "winner = \"\"\n",
    "\n",
    "for kitty, samples in kitty_samples_dict.items():\n",
    "    if np.mean(samples) > best:\n",
    "        best = np.mean(samples)\n",
    "        winner = kitty\n",
    "\n",
    "print(f\"Our winner is {winner} with a mean score of {best}\")\n",
    "\n"
   ]
  }
 ],
 "metadata": {
  "kernelspec": {
   "display_name": "Python 3.9.13 ('dl')",
   "language": "python",
   "name": "python3"
  },
  "language_info": {
   "codemirror_mode": {
    "name": "ipython",
    "version": 3
   },
   "file_extension": ".py",
   "mimetype": "text/x-python",
   "name": "python",
   "nbconvert_exporter": "python",
   "pygments_lexer": "ipython3",
   "version": "3.9.13"
  },
  "orig_nbformat": 4,
  "vscode": {
   "interpreter": {
    "hash": "840a7fc33b32b408095679afce6ebddcd7315624bdb28fa45544d0cfa56ee3bc"
   }
  }
 },
 "nbformat": 4,
 "nbformat_minor": 2
}
