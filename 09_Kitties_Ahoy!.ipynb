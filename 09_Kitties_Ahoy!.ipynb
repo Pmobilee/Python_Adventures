{
 "cells": [
  {
   "cell_type": "markdown",
   "metadata": {},
   "source": [
    "# 1. Don't be so square!"
   ]
  },
  {
   "cell_type": "markdown",
   "metadata": {},
   "source": [
    "![](images/20221215194835.png)  \n",
    "\n",
    "Square Kitty really likes squares! Why don't you make a function, that takes in a single number called N. Then, you make a 2-dimensional square with N x N size, and filled with the number N!\n",
    "\n",
    "Examples:\n",
    "\n",
    "```python\n",
    "square_patch(3) ➞ [\n",
    "  [3, 3, 3],\n",
    "  [3, 3, 3],\n",
    "  [3, 3, 3]\n",
    "]\n",
    "\n",
    "square_patch(5) ➞ [\n",
    "  [5, 5, 5, 5, 5],\n",
    "  [5, 5, 5, 5, 5],\n",
    "  [5, 5, 5, 5, 5],\n",
    "  [5, 5, 5, 5, 5],\n",
    "  [5, 5, 5, 5, 5]\n",
    "]\n",
    "\n",
    "square_patch(1) ➞ [\n",
    "  [1]\n",
    "]\n",
    "\n",
    "square_patch(0) ➞ []\n",
    "```"
   ]
  },
  {
   "cell_type": "code",
   "execution_count": null,
   "metadata": {},
   "outputs": [],
   "source": [
    "# Work here\n",
    "\n",
    "def square_patch(n):\n",
    "    "
   ]
  },
  {
   "cell_type": "code",
   "execution_count": null,
   "metadata": {},
   "outputs": [],
   "source": [
    "# Test Here\n",
    "try:\n",
    "    assert(square_patch(3) == [\n",
    "        [3, 3, 3],\n",
    "        [3, 3, 3],\n",
    "        [3, 3, 3]\n",
    "    ])\n",
    "\n",
    "\n",
    "    assert(square_patch(4) == [\n",
    "        [4, 4, 4, 4],\n",
    "        [4, 4, 4, 4],\n",
    "        [4, 4, 4, 4],\n",
    "        [4, 4, 4, 4]\n",
    "    ])\n",
    "    print(\"Passed\")\n",
    "except:\n",
    "    print(\"Failed\")"
   ]
  },
  {
   "cell_type": "code",
   "execution_count": 1,
   "metadata": {},
   "outputs": [],
   "source": [
    "# Example solutions\n",
    "\n",
    "def square_patch(n):\n",
    "\treturn [[n]*n]*n\n",
    "\n",
    "def square_patch(n):\n",
    "\treturn [[n for i in range(n)] for x in range(n)]\n",
    "\n",
    "def square_patch(n):\n",
    "\tresult = []\n",
    "\tfor i in range(n):\n",
    "\t\tresult.append([n]*n)\n",
    "\treturn result"
   ]
  },
  {
   "cell_type": "markdown",
   "metadata": {},
   "source": [
    "# 2. Kitty grocery\n",
    "\n",
    "![](images/20221215194925.png)  \n",
    "\n",
    "**(Don't mention his eyes, he was born like that!)**\n",
    "\n",
    "This little kitty has a grocery store, and he'd like a quick way to tag all his fruit juices. He wants to do this by concatenating the first three letters of the words in a flavor's name, with its capacity (in ml).\n",
    "\n",
    "Create a function that creates the product IDs for different fruit juices.\n",
    "\n",
    "Examples:\n",
    "\n",
    "```python\n",
    "get_drink_ID(\"apple\", \"500ml\") ➞ \"APP500\"\n",
    "\n",
    "get_drink_ID(\"pineapple\", \"45ml\") ➞ \"PIN45\"\n",
    "\n",
    "get_drink_ID(\"passion fruit\", \"750ml\") ➞ \"PASFRU750\"\n",
    "```\n",
    "\n",
    "Notes\n",
    "* Capacity will be given as a string, and will always be given in ml.\n",
    "* Return the letters in UPPERCASE.\n",
    "* Hint: \"Test me\".upper()"
   ]
  },
  {
   "cell_type": "code",
   "execution_count": null,
   "metadata": {},
   "outputs": [],
   "source": [
    "# work here\n",
    "\n",
    "def get_drink_ID(flavor, ml):\n",
    "\t"
   ]
  },
  {
   "cell_type": "code",
   "execution_count": 8,
   "metadata": {},
   "outputs": [],
   "source": [
    "# check here\n",
    "try:\n",
    "    assert(get_drink_ID(\"apple\", \"500ml\") == \"APP500\")\n",
    "    assert(get_drink_ID(\"pineapple\", \"45ml\") == \"PIN45\")\n",
    "    assert(get_drink_ID(\"orange\", \"750ml\") == \"ORA750\")\n",
    "    print(\"Passed\")\n",
    "except:\n",
    "    print(\"Failed\")"
   ]
  },
  {
   "cell_type": "code",
   "execution_count": null,
   "metadata": {},
   "outputs": [],
   "source": [
    "# Example Solution\n",
    "\n",
    "def get_drink_ID(flavor, ml):\n",
    "    flavor = flavor[0:3].upper()\n",
    "    ml = ml[:-2]\n",
    "    return flavor + ml\n",
    "\n"
   ]
  },
  {
   "cell_type": "markdown",
   "metadata": {},
   "source": [
    "# 3. Don't roll Doubles!\n",
    "\n",
    "![](images/20221215195137.png)  \n",
    "\n",
    "This little kitty loves to gamble! Will you help him indulge in his addiction? Great! \n",
    "\n",
    "This is a dice game. The rules are as follows.\n",
    "\n",
    "* Roll two dice.\n",
    "* Add the numbers on the dice together.\n",
    "* Add the total to your overall score.\n",
    "* Repeat this for three rounds.\n",
    "\n",
    "**But if you roll DOUBLES, your score is instantly wiped to 0 and your game ends immediately!**\n",
    "\n",
    "Create a function that takes in a list of tuples as input, and return John's score after his game has ended.\n",
    "\n",
    "Examples:\n",
    "\n",
    "```python\n",
    "dice_game([(1, 2), (3, 4), (5, 6)]) ➞ 21\n",
    "\n",
    "dice_game([(1, 1), (5, 6), (6, 4)]) ➞ 0\n",
    "\n",
    "dice_game([(4, 5), (4, 5), (4, 5)]) ➞ 27\n",
    "```\n",
    "\n",
    "Notes\n",
    "* Ignore all other tuples in the list if a throw happens to be doubles and go straight to returning 0.\n",
    "* John only has two dice and will always give you outcomes for three rounds."
   ]
  },
  {
   "cell_type": "code",
   "execution_count": null,
   "metadata": {},
   "outputs": [],
   "source": [
    "# Work here\n",
    "def dice_game(lst):\n",
    "    "
   ]
  },
  {
   "cell_type": "code",
   "execution_count": null,
   "metadata": {},
   "outputs": [],
   "source": [
    "# test your code\n",
    "try:\n",
    "    assert(dice_game([(1, 2), (3, 4), (5, 6)]) == 21)\n",
    "    assert(dice_game([(1, 1), (5, 6), (6, 4)]) == 0)\n",
    "    print(\"Passed\")\n",
    "except:\n",
    "    print(\"Failed\")"
   ]
  },
  {
   "cell_type": "code",
   "execution_count": 9,
   "metadata": {},
   "outputs": [],
   "source": [
    "# example solutions\n",
    "def dice_game(lst):\n",
    "\tscore = 0\n",
    "\tfor a, b in lst:\n",
    "\t\tif a == b:\n",
    "\t\t\treturn 0\n",
    "\t\tscore += a+b\n",
    "\treturn score\n",
    "\n",
    "\n",
    "def dice_game(lst):\n",
    "\treturn sum(a+b for a, b in lst) if not any(a==b for a, b in lst) else 0\n",
    "\n",
    "\n",
    "def dice_game(lst):\n",
    "\tfor i in lst: \n",
    "\t\tif i[0]==i[1]: return 0\n",
    "\treturn sum(sum(i) for i in lst)\n",
    "\n"
   ]
  },
  {
   "cell_type": "markdown",
   "metadata": {},
   "source": [
    "# 4. Mountain Kitty!\n",
    "\n",
    "\n",
    "This little kitty is a born adventurer. He likes to climb mountains, but his wife got so upset last time when he almost didn't make it, that he now has to check each mountain if he can make it or not. So could you help him?\n",
    "\n",
    "Given a list of numbers, representing the height of a mountain in certain intervals, return whether this mountain is scalable. A mountain can be considered scalable if each number is within 5 units of the next number in either direction.\n",
    "\n",
    "Examples:\n",
    "\n",
    "```\n",
    "is_scalable([1, 2, 4, 6, 7, 8]) ➞ True\n",
    "\n",
    "is_scalable([40, 45, 50, 45, 47, 52]) ➞ True\n",
    "\n",
    "is_scalable([2, 9, 11, 10, 18, 21]) ➞ False\n",
    "```\n"
   ]
  },
  {
   "cell_type": "code",
   "execution_count": null,
   "metadata": {},
   "outputs": [],
   "source": [
    "# Work here\n",
    "def is_scalable(lst):\n",
    "\t"
   ]
  },
  {
   "cell_type": "code",
   "execution_count": null,
   "metadata": {},
   "outputs": [],
   "source": [
    "# Check here\n",
    "try:\n",
    "    assert(is_scalable([1, 2, 4, 6, 7, 8]) == True)\n",
    "    assert(is_scalable([40, 45, 50, 48, 47, 52]) == True)\n",
    "    print(\"Passed\")\n",
    "except:\n",
    "    print(\"Failed\")"
   ]
  },
  {
   "cell_type": "code",
   "execution_count": null,
   "metadata": {},
   "outputs": [],
   "source": [
    "# Example Solutions\n",
    "def is_scalable(lst):\n",
    "\treturn all(abs(a-b) <= 5 for a, b in zip(lst, lst[1:]))\n",
    "\n",
    "def is_scalable(lst):\n",
    "\tfor i in range(1, len(lst)):\n",
    "\t\tif lst[i] > lst[i-1] + 5:\n",
    "\t\t\treturn False\n",
    "\treturn True"
   ]
  }
 ],
 "metadata": {
  "kernelspec": {
   "display_name": "Python 3.10.7 64-bit",
   "language": "python",
   "name": "python3"
  },
  "language_info": {
   "codemirror_mode": {
    "name": "ipython",
    "version": 3
   },
   "file_extension": ".py",
   "mimetype": "text/x-python",
   "name": "python",
   "nbconvert_exporter": "python",
   "pygments_lexer": "ipython3",
   "version": "3.10.7"
  },
  "orig_nbformat": 4,
  "vscode": {
   "interpreter": {
    "hash": "26de051ba29f2982a8de78e945f0abaf191376122a1563185a90213a26c5da77"
   }
  }
 },
 "nbformat": 4,
 "nbformat_minor": 2
}
