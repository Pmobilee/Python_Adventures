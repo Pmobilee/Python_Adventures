{
 "cells": [
  {
   "cell_type": "markdown",
   "metadata": {},
   "source": [
    "# Recap: having helped the store clerks and feeling good about your chances of leaving this world full of cats, you arrive at the kitty dungeons, dark and full of mice."
   ]
  },
  {
   "cell_type": "markdown",
   "metadata": {},
   "source": [
    "You look at your little helper who's traveled alongside you, having collected many small bits and bobles in the dungeon, resting under the only known lightsource beneath the ground."
   ]
  },
  {
   "cell_type": "markdown",
   "metadata": {},
   "source": [
    "![](images/20221105164828.png)  "
   ]
  },
  {
   "cell_type": "markdown",
   "metadata": {},
   "source": [
    "Perhaps we should try practicing some more of the basics, wouldn't you agree? Let's see what's around is.."
   ]
  },
  {
   "cell_type": "markdown",
   "metadata": {},
   "source": [
    "![](images/20221105164929.png)  "
   ]
  },
  {
   "cell_type": "markdown",
   "metadata": {},
   "source": [
    "That's it! let's practice with the candles before we venture out in the dark dungeon. It seems some candles are off, let's light them up, shall we?"
   ]
  },
  {
   "cell_type": "markdown",
   "metadata": {},
   "source": [
    "Below are some lists of candles, light them up, keep good track of what you have done, in order:\n",
    "\n",
    "<ol>\n",
    "  <li>Read carefully at what INDEX the candle is that is off</li>\n",
    "  <li>then for each candle list, set the candle at that index to 'lit'</li>\n",
    "  <li>run the cell whenever to check on your progress</li>\n",
    "</ol>"
   ]
  },
  {
   "cell_type": "code",
   "execution_count": null,
   "metadata": {},
   "outputs": [],
   "source": [
    "# it's at the first index, easy right!\n",
    "candles_1 = [\"extinguished\", \"lit\", \"lit\", \"lit\", ]\n",
    "\n",
    "# change it here\n",
    "...\n",
    "\n",
    "# Hey it's at the last index, isn't there an easy way to immediately get the last index, \n",
    "# without counting?\n",
    "candles_2 = [\"lit\", \"lit\", \"lit\", \"extinguished\"]\n",
    "\n",
    "# change it here\n",
    "...\n",
    "\n",
    "# oh this is a little harder, can you do it?\n",
    "candles_3 = [\"lit\", \"lit\", \"extinguished\", \"lit\", \"lit\", \"lit\", ]\n",
    "\n",
    "# change it here\n",
    "...\n",
    "\n",
    "\n",
    "candles_list = [candles_1, candles_2, candles_3]\n",
    "count = 1\n",
    "for i in candles_list:\n",
    "    print(\"Candles list\", count, \"is:\", i)\n",
    "    count += 1"
   ]
  },
  {
   "cell_type": "markdown",
   "metadata": {},
   "source": [
    "![](images/20221105170052.png)  "
   ]
  },
  {
   "cell_type": "markdown",
   "metadata": {},
   "source": [
    "yaay good job! I think we should practice some more with lists, they can do a lot you know! Why don't you try and get a torch from my backpack, however, it's in one of the pockets! You should try indexing... and index of a list??? Magic! Why don't I give you an example:"
   ]
  },
  {
   "cell_type": "code",
   "execution_count": 4,
   "metadata": {},
   "outputs": [
    {
     "name": "stdout",
     "output_type": "stream",
     "text": [
      "[['food', 'dead mouse'], ['string', 'another piece of string'], ['wetfood']]\n"
     ]
    }
   ],
   "source": [
    "# First I have a few pockets here:\n",
    "pocket_1 = [\"food\", \"dead mouse\"]\n",
    "pocket_2 = [\"string\", \"another piece of string\"]\n",
    "pocket_3 = [\"wetfood\"]\n",
    "\n",
    "# Now all the pockets are added to the backpack list:\n",
    "backpack = [pocket_1, pocket_2, pocket_3]\n",
    "\n",
    "# let's see what that looks like!\n",
    "print(backpack)"
   ]
  },
  {
   "cell_type": "markdown",
   "metadata": {},
   "source": [
    "See the double [[..  ..]]  at the beginning and end, that shows us we have lists inside of a list. If you had three, you would have a list of lists inside a list, woopie! So now I'll access... \"wetfood\", of course!"
   ]
  },
  {
   "cell_type": "code",
   "execution_count": null,
   "metadata": {},
   "outputs": [],
   "source": [
    "print(backpack[-1][0])"
   ]
  },
  {
   "cell_type": "markdown",
   "metadata": {},
   "source": [
    "See what I did there, I took the last item of the backpack, which is pocket_3 at index -1 (or index 2, same thing), and then I asked for the item in the pocket at index 0. Try and predict what would happen in the following example:"
   ]
  },
  {
   "cell_type": "code",
   "execution_count": null,
   "metadata": {},
   "outputs": [],
   "source": [
    "print(backpack[-1])"
   ]
  },
  {
   "cell_type": "markdown",
   "metadata": {},
   "source": [
    "You can probably see the difference between the two outputs, but why don't you print out the types of both outputs, and then compare them in a print function?"
   ]
  },
  {
   "cell_type": "code",
   "execution_count": null,
   "metadata": {},
   "outputs": [],
   "source": [
    "with_index_0 = (backpack[-1][0])\n",
    "without_index_0 = (backpack[-1])\n",
    "\n",
    "print(f\"The type with index_0 is {} \\nand the type without index_0 is {}, the assumption that they are equal is {add boolean comparison here ==}\")"
   ]
  },
  {
   "cell_type": "markdown",
   "metadata": {},
   "source": [
    "Let's do something more difficult? are you up for it? I think we should work with our dictionaries a bit more! Why don't we keep an inventory of all the weapons and spells we have left? I'll give some more dictionary examples here by adding my own spells:"
   ]
  },
  {
   "cell_type": "code",
   "execution_count": 16,
   "metadata": {},
   "outputs": [],
   "source": [
    "# First we make an empty dictionary:\n",
    "spells_dictonary = {}\n",
    "\n",
    "# I'll add my favourite spell first, and the mana cost:\n",
    "spells_dictonary[\"wetfood attack\"] = 10"
   ]
  },
  {
   "cell_type": "markdown",
   "metadata": {},
   "source": [
    "Now comes the hard part, you've practiced for loops, lists, and indexes. here we have two lists, one of cat spells and one of their mana costs. You need to make a for loop (which I'll set up), and for every loop add the name of the spell to the spells dictionary, and the mana cost of that spell"
   ]
  },
  {
   "cell_type": "code",
   "execution_count": null,
   "metadata": {},
   "outputs": [],
   "source": [
    "cat_spells = [\"tail attack\", \"scurrying\", \"miauwing very very loudly\", \"purr explosion\"]\n",
    "spell_costs = [1, -5, 8, 69]\n",
    "\n",
    "# here we start the for loop, just run it first to see what the index gives every loop\n",
    "for index in range(len(cat_spells)):\n",
    "    print(index)\n",
    "\n"
   ]
  },
  {
   "cell_type": "markdown",
   "metadata": {},
   "source": [
    "Wow, lets rest at the fire and continue on, now that we have our spellbook ready!"
   ]
  },
  {
   "cell_type": "markdown",
   "metadata": {},
   "source": [
    "![](images/20221105181925.png)  "
   ]
  },
  {
   "cell_type": "markdown",
   "metadata": {},
   "source": [
    "## You both venture into the unknown, down many chasms and ravines. At some point you discover a room with a weird object on the table, in the distance a sorcerer conjures some weird creature, and it is up to you to destroy it!"
   ]
  },
  {
   "cell_type": "markdown",
   "metadata": {},
   "source": [
    "Quick nora, how much did the \"scurrying\" attack cost? I think we need to run!"
   ]
  },
  {
   "cell_type": "code",
   "execution_count": null,
   "metadata": {},
   "outputs": [],
   "source": [
    "# Simply print the cost of \"scurrying\" in your spells_dictionary, if you don't know how, look it up. But as a tip: \n",
    "# you can access dictionary values (the value of an item in the dictionary) the same as an index of a list: \n",
    "# for example, print(spell_list[\"my_attack\"])\n",
    "\n",
    "print()"
   ]
  },
  {
   "cell_type": "markdown",
   "metadata": {},
   "source": [
    "It costs -5?? That's great, I guess we get some bonus mana! However, I don't think we can escape... I think you'll have to kill it. Use your spells into the attack function I made for you, until the beats is destroyed. I'll set up the stuff below. DONT use this cell, use the next one:"
   ]
  },
  {
   "cell_type": "code",
   "execution_count": 88,
   "metadata": {},
   "outputs": [
    {
     "name": "stdout",
     "output_type": "stream",
     "text": [
      "Just a reminder of your spells and cost:\n",
      "\n",
      "{'wetfood attack': 10, 'tail attack': 1, 'scurrying': -5, 'miauwing very very loudly': 8, 'purr explosion': 69}\n"
     ]
    }
   ],
   "source": [
    "import random\n",
    "\n",
    "life = 100\n",
    "def attack(attack):\n",
    "    global life\n",
    "    try:\n",
    "        if attack == \"tail attack\":\n",
    "            print(\"Stupid! I don't even have a tail!\")\n",
    "            return\n",
    "        if attack == \"purr explosion\":\n",
    "            life = 0\n",
    "            damage = \"OVER 9000\"\n",
    "            print(\"you did\", damage, \"DAMAGE!\")\n",
    "            print(f\"The creature has {life} life left!\")\n",
    "            print(\"The echoes of your purr fills the empty halls\\n\")\n",
    "            print(\"\\n ************ You have defeated the creature, let's continue!\")\n",
    "            return\n",
    "        mana = spells_dictonary[attack]\n",
    "        print(f\"you did the {attack} attack for {mana} mana\")\n",
    "        damage = random.randint(0, 10)\n",
    "        print(\"you did\", damage, \"DAMAGE!\")\n",
    "        life -= damage\n",
    "        if life <= 0:\n",
    "            life = 0\n",
    "            print(f\"The creature has {life} life left!\\n\")\n",
    "            print(\"\\n ************ You have defeated the creature (but not in the way I intended...), let's continue!\")\n",
    "        print(f\"The creature has {life} life left!\\n\")\n",
    "    except:\n",
    "        print(\"I don't know that spell! (mistyped or wrong), try again!\")\n",
    "    \n",
    "print(\"Just a reminder of your spells and cost:\\n\")\n",
    "print(spells_dictonary)"
   ]
  },
  {
   "cell_type": "markdown",
   "metadata": {},
   "source": [
    "Okay, so let's start attacking, first: I'll simply use my wetfood attack!"
   ]
  },
  {
   "cell_type": "code",
   "execution_count": null,
   "metadata": {},
   "outputs": [],
   "source": [
    "attack(\"wetfood attack\")"
   ]
  },
  {
   "cell_type": "markdown",
   "metadata": {},
   "source": [
    "We should use another attack, why don't you use the tail attack!"
   ]
  },
  {
   "cell_type": "code",
   "execution_count": null,
   "metadata": {},
   "outputs": [],
   "source": [
    "attack(\"tail attack\")"
   ]
  },
  {
   "cell_type": "markdown",
   "metadata": {},
   "source": [
    "Okay that didn't work, why don't you attack with the spell that costs 8? I forgot what spell that was, could you find out what spell in our dictionary has the value 8?"
   ]
  },
  {
   "cell_type": "code",
   "execution_count": null,
   "metadata": {},
   "outputs": [],
   "source": [
    "# First I'll ask for the spell of mana -5:\n",
    "\n",
    "for key, value in spells_dictonary.items():\n",
    "    if value == -5:\n",
    "        print(\"Spell for -5 mana:\", key)\n"
   ]
  },
  {
   "cell_type": "markdown",
   "metadata": {},
   "source": [
    "Now you do it for the \"miawing very very loudly\"!"
   ]
  },
  {
   "cell_type": "code",
   "execution_count": null,
   "metadata": {},
   "outputs": [],
   "source": [
    "for key, value in spells_dictonary.items():"
   ]
  },
  {
   "cell_type": "markdown",
   "metadata": {},
   "source": [
    "Great, now use that attack (I know, We could have just used it directly, but I'm a dumb kitty).."
   ]
  },
  {
   "cell_type": "code",
   "execution_count": null,
   "metadata": {},
   "outputs": [],
   "source": [
    "# Use the miauwing attack\n"
   ]
  },
  {
   "cell_type": "markdown",
   "metadata": {},
   "source": [
    "Okay, lets combine our forces and do the incredible purr explosion together! It's too strong so it will need a function, that does the attack, name the function love_attack that takes in the \"purr explosion\", and then attacks the creature using the name of the attack we pass through!"
   ]
  },
  {
   "cell_type": "code",
   "execution_count": null,
   "metadata": {},
   "outputs": [],
   "source": [
    "# So step by step, DEFine a function here called love_attack() that takes one argument, you can call it our_attack. it will look like this:\n",
    "def love_attack(our_attack):\n",
    "    # then add the code for the attack beneath:\n",
    "    ....\n",
    "\n",
    "# now call the attack and end this beats once and for all!\n",
    "...."
   ]
  },
  {
   "cell_type": "markdown",
   "metadata": {},
   "source": [
    "![](images/20221105184950.png)  "
   ]
  },
  {
   "cell_type": "markdown",
   "metadata": {},
   "source": [
    "Oh Miauw!!! The caves are crumbling, let's get out of here!!!"
   ]
  },
  {
   "cell_type": "markdown",
   "metadata": {},
   "source": [
    "## You quickly dash through the labyrinth, trying to find safe grounds.. Find out next time how the adventure continues!"
   ]
  }
 ],
 "metadata": {
  "kernelspec": {
   "display_name": "Python 3.10.7 64-bit",
   "language": "python",
   "name": "python3"
  },
  "language_info": {
   "codemirror_mode": {
    "name": "ipython",
    "version": 3
   },
   "file_extension": ".py",
   "mimetype": "text/x-python",
   "name": "python",
   "nbconvert_exporter": "python",
   "pygments_lexer": "ipython3",
   "version": "3.10.7"
  },
  "orig_nbformat": 4,
  "vscode": {
   "interpreter": {
    "hash": "26de051ba29f2982a8de78e945f0abaf191376122a1563185a90213a26c5da77"
   }
  }
 },
 "nbformat": 4,
 "nbformat_minor": 2
}
