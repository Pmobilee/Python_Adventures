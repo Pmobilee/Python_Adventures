{
 "cells": [
  {
   "cell_type": "markdown",
   "metadata": {},
   "source": [
    "\n",
    "\n",
    "![](images/20221122121516.png)  "
   ]
  },
  {
   "cell_type": "markdown",
   "metadata": {},
   "source": [
    "# We have gained intel on the dog's movements. We quickly need your help in trying to become more like the dogs, think like them, move like them, copy their technology.."
   ]
  },
  {
   "cell_type": "markdown",
   "metadata": {},
   "source": [
    "Below you have two lists, one of dog barks and one of cat miauws. In order to infiltrate the dog's organization, we'll need to learn how to mix in with the dogs. What you'll need to do is:\n",
    "\n",
    "<ul>\n",
    "    <li>Interlace the barks with the miauws</li>\n",
    "    <li>Make a NEW list with a bark, a miauw, a bark, and a miauw...</li>\n",
    "    <li>Use a loop</li>\n",
    "</ul>"
   ]
  },
  {
   "cell_type": "code",
   "execution_count": 1,
   "metadata": {},
   "outputs": [],
   "source": [
    "# These are the lists\n",
    "miauw_list = [\"Miauw1\", \"Miauw2\", \"Miauw3\", \"Miauw4\"]\n",
    "bark_list = [\"Bark1\", \"Bark2\", \"Bark3\", \"Bark4\"]\n",
    "\n",
    "# Below, interlace the lists and print the final list:\n",
    "..."
   ]
  },
  {
   "cell_type": "code",
   "execution_count": null,
   "metadata": {},
   "outputs": [],
   "source": [
    "# Example solution:\n",
    "\n",
    "\n",
    "\n",
    "\n",
    "\n",
    "\n",
    "\n",
    "\n",
    "\n",
    "interlaced_list = []\n",
    "for i in range(len(miauw_list)):\n",
    "    interlaced_list.append(bark_list[i])\n",
    "    interlaced_list.append(miauw_list[i])\n",
    "\n",
    "print(interlaced_list)"
   ]
  },
  {
   "cell_type": "markdown",
   "metadata": {},
   "source": [
    "Since you made that Palindrome pyramid last time, maybe you can also make a palindrome checker for us? A palindrome is a sequence that is the same forward as it is backwards, \"Like abcdcba\".\n",
    "\n",
    "HOWEVER, we want to know all the NUMBERS between 10 and 500 that are palindromes!\n",
    "\n",
    "What?? You ask.\n",
    "\n",
    "Well: 100 is not the same as 001. But 121 is a palindrome, you see? We'll give you a few hints below, but based on what you've shown this far, you should definitely be able to do it!"
   ]
  },
  {
   "cell_type": "markdown",
   "metadata": {},
   "source": [
    "<span style=\"color:red\">Task:</span>\n",
    "<ul>\n",
    "    <li>Make a FUNCTION that takes a start and end number as arguments (given below) and RETURNS a list of number palindromes between those numbers</li>\n",
    "    <li>Make a loop within that function for the given numbers</li>\n",
    "    <li>Check every number if it's a palindrome</li>\n",
    "    <li>Return the list of palindrome numbers</li>\n",
    "    <li>Print all the palindrome numbers</li>\n",
    "</ul>\n",
    "\n",
    "<span style=\"color:red\">Hints:</span>\n",
    "<ul>\n",
    "    <li>It might be easier to check if the STRING version of a number is the same as the REVERSED STRING version of that number</li>\n",
    "    <li>String operations are similar to list operations: string[0:5:1] is the same as list[0:5:1]</li>\n",
    "</ul>"
   ]
  },
  {
   "cell_type": "code",
   "execution_count": null,
   "metadata": {},
   "outputs": [],
   "source": [
    "start_num = 10\n",
    "end_num = 500\n",
    "\n"
   ]
  },
  {
   "cell_type": "code",
   "execution_count": 1,
   "metadata": {},
   "outputs": [
    {
     "name": "stdout",
     "output_type": "stream",
     "text": [
      "Palindrome Numbers:  [11, 22, 33, 44, 55, 66, 77, 88, 99, 101, 111, 121, 131, 141, 151, 161, 171, 181, 191, 202, 212, 222, 232, 242, 252, 262, 272, 282, 292, 303, 313, 323, 333, 343, 353, 363, 373, 383, 393, 404, 414, 424, 434, 444, 454, 464, 474, 484, 494]\n"
     ]
    }
   ],
   "source": [
    "# Example solution:\n",
    "\n",
    "\n",
    "\n",
    "\n",
    "\n",
    "\n",
    "\n",
    "\n",
    "def palindrome_numbers(start, end):\n",
    "    palindrome_list = []\n",
    "    for num in range(start_num, end_num):\n",
    "        string_number = str(num)\n",
    "        if string_number == string_number[::-1]:\n",
    "            palindrome_list.append(num)\n",
    "\n",
    "    return palindrome_list\n",
    "\n",
    "start_num = 10\n",
    "end_num = 500\n",
    "\n",
    "palindrome_num_list = palindrome_numbers(start_num, end_num)\n",
    "print(\"Palindrome Numbers: \", palindrome_num_list)"
   ]
  },
  {
   "cell_type": "markdown",
   "metadata": {},
   "source": [
    "![](images/20221122123413.png)  \n",
    "\n",
    "Good job! We need to do some more simple operations in order to start our planning of infiltration! Make a function that takes a list of numbers, and PRINTS ODD or EVEN for every number\n",
    "\n",
    "Hint: Odd numbers are numbers that when DIVIDED by 2, have a REMAINDER of 0. Do you remember the operation to calculate remainders?"
   ]
  },
  {
   "cell_type": "code",
   "execution_count": null,
   "metadata": {},
   "outputs": [],
   "source": [
    "import random\n",
    "num_list = [random.randint(0, 100) for x in range(20)]  # Gives a list of 20 random numbers\n",
    "\n"
   ]
  },
  {
   "cell_type": "code",
   "execution_count": null,
   "metadata": {},
   "outputs": [],
   "source": [
    "# Example solution:\n",
    "\n",
    "\n",
    "\n",
    "\n",
    "\n",
    "\n",
    "\n",
    "\n",
    "import random\n",
    "num_list = [random.randint(0, 100) for x in range(20)]  # Gives a list of 20 random numbers\n",
    "\n",
    "# Yep, you can write if/else statements in a short way like this, cool right?\n",
    "for num in num_list:\n",
    "    print(f\"{num} is EVEN\") if num % 2 == 0 else print(f\"{num} is ODD\")\n"
   ]
  },
  {
   "cell_type": "markdown",
   "metadata": {},
   "source": [
    "Wowzers! Good job! You know what, you're ready for a bit more intense exercise. You see, we need to make a CLASS for DOGS, so that we can learn to become like them to defeat their reign over us!\n",
    "\n",
    "\"Wait, class?\"\n",
    "\n",
    "Yup! It's new and difficult, I know. But we'll help you. Below, We'll show you our Kitty class to help you out, I'll show hints where needed:"
   ]
  },
  {
   "cell_type": "code",
   "execution_count": null,
   "metadata": {},
   "outputs": [],
   "source": [
    "# We first define our class:\n",
    "\n",
    "class Kitty:\n",
    "\n",
    "    # Now we make an __init__() function. What is this??\n",
    "    # Well, this function is run the moment a new Kitty is born from\n",
    "    # The kitty class, that's when they Miauw:\n",
    "\n",
    "    # We add \"self\" here, this is not necessary in this example right now, but always just add\n",
    "    # \"self\" as the first item in every class function, okay?\n",
    "    def __init__(self):\n",
    "        print(\"Miauw, I'm born!\")\n",
    "\n",
    "# Now let's make a kitty, it should miauw!\n",
    "\n",
    "newborn_kitten = Kitty()"
   ]
  },
  {
   "cell_type": "markdown",
   "metadata": {},
   "source": [
    "You see that, we have a newborn kitty and it miauwed automatically!\n",
    "\n",
    "![](images/20221122124624.png)  \n",
    "\n",
    "Now we'll show you how to give the kitty a name. You've seen \"self\" in the previous block, self means that it refers to the instance of the class, our newborn_kitten of class Kitty! "
   ]
  },
  {
   "cell_type": "code",
   "execution_count": null,
   "metadata": {},
   "outputs": [],
   "source": [
    "class Kitty:\n",
    "\n",
    "    def __init__(self, name):\n",
    "        print(\"Miauw, I'm born!\")\n",
    "\n",
    "        # Here we add a name to our newborn_kitten, how cute!\n",
    "        self.name = name\n",
    "\n",
    "        # Now let's print that!\n",
    "        print(f\"And my name is {self.name}\")\n",
    "\n",
    "# We make the kitten with a name\n",
    "newborn_kitten = Kitty(name=\"Kitty Junior\")"
   ]
  },
  {
   "cell_type": "markdown",
   "metadata": {},
   "source": [
    "Now lets add a Kitty class function. What should be the first thing a kitty learns? Beg for wetfood ofcourse! We'll add a function that does exactly that!"
   ]
  },
  {
   "cell_type": "code",
   "execution_count": null,
   "metadata": {},
   "outputs": [],
   "source": [
    "class Kitty:\n",
    "\n",
    "    def __init__(self, name):\n",
    "        print(\"Miauw, I'm born!\")\n",
    "    \n",
    "        self.name = name\n",
    "\n",
    "        print(f\"And my name is {self.name}\")\n",
    "\n",
    "    # AGAIN!!! Add self!\n",
    "    def hungry(self):\n",
    "        print(\"Pweaase give me wetfood or I'll die!\")\n",
    "\n",
    "# We make the kitten with a name\n",
    "newborn_kitten = Kitty(name=\"Kitty Junior\")\n",
    "\n",
    "# And we'll use the begging for wetfood function:\n",
    "newborn_kitten.hungry()"
   ]
  },
  {
   "cell_type": "markdown",
   "metadata": {},
   "source": [
    "Now that you've learned all that, with the help of your kitty streamers (yes, talking to YOU, chat!) make a class called doggy. Spend as much time as you want, as we'll be preparing the infiltration in the meantime. Please try and complete the following objectives, private Nora.\n",
    "\n",
    "\"I've been promoted?\"\n",
    "\n",
    "\"Yes, and we'll even do the following:\""
   ]
  },
  {
   "cell_type": "code",
   "execution_count": 56,
   "metadata": {},
   "outputs": [
    {
     "name": "stdout",
     "output_type": "stream",
     "text": [
      "Miauw, I'm born!\n",
      "And my name is Nora\n"
     ]
    }
   ],
   "source": [
    "nora_tries = Kitty(name=\"Nora\")"
   ]
  },
  {
   "cell_type": "markdown",
   "metadata": {},
   "source": [
    "You're now officially part of our kitten army!\n",
    "\n",
    "But without further ado, do the following:\n",
    "\n",
    "<span style=\"color:red\">Task:</span>\n",
    "<ul>\n",
    "    <li>1. Create a class called doggy</li>\n",
    "    <li>2. Upon creation, in order to seem realistic, we must print \"Woof!\"</li>\n",
    "    <li>3. Just like for the kitties, Say your new dog name, but... with a woof! at the end.</li>\n",
    "    <li>4. Make a function called bark() that takes a number, and then barks that amount of times when called</li>\n",
    "    <li>5. Create a function called help(), We'll need this in case the dog army sees through our disguise. When it's called, use your bark() function to bark three times. Then the other secret agent kitties will know that you need help!</li>\n",
    "    <li>6. Advanced: Create a function called check() that is run immediately upon creation of a secret agent. It checks if the name of the dog is set to \"Adolf Scruffler\", which is not allowed in the dog kingdom. If it is, print \"Secret agent, abort!\"</li>\n",
    "</ul>\n"
   ]
  },
  {
   "cell_type": "code",
   "execution_count": null,
   "metadata": {},
   "outputs": [],
   "source": []
  }
 ],
 "metadata": {
  "kernelspec": {
   "display_name": "Python 3.10.7 64-bit",
   "language": "python",
   "name": "python3"
  },
  "language_info": {
   "codemirror_mode": {
    "name": "ipython",
    "version": 3
   },
   "file_extension": ".py",
   "mimetype": "text/x-python",
   "name": "python",
   "nbconvert_exporter": "python",
   "pygments_lexer": "ipython3",
   "version": "3.10.7"
  },
  "orig_nbformat": 4,
  "vscode": {
   "interpreter": {
    "hash": "26de051ba29f2982a8de78e945f0abaf191376122a1563185a90213a26c5da77"
   }
  }
 },
 "nbformat": 4,
 "nbformat_minor": 2
}
