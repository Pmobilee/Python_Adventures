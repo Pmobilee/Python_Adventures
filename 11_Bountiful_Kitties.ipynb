{
 "cells": [
  {
   "cell_type": "markdown",
   "metadata": {},
   "source": [
    "# Kitty Censor warrior\n",
    "\n",
    "![](images/20221222184858.png)  \n",
    "\n",
    "The Kitty Censor Warrior has returned!\n",
    "Given the war with the dogs, the kitties have decided to censor their language in a propaganda effort. Words such as \"dog\", \"woof\" are prohibited. Could you make the censoring warrior a function that takes a sentence and does the following things?\n",
    "\n",
    "1. Turns \"dog\" into \"cat\", and \"woof\" into \"miauw\"\n",
    "2. Censors all words longer than the length of a MIAUW (5) characters with asterisks (\"*\") like with a password\n",
    "\n",
    "example: \"This dog says barkbark\" -> \"This cat says ********\""
   ]
  },
  {
   "cell_type": "code",
   "execution_count": null,
   "metadata": {},
   "outputs": [],
   "source": [
    "# Work here\n",
    "def kitty_censor(sentence):"
   ]
  },
  {
   "cell_type": "code",
   "execution_count": null,
   "metadata": {},
   "outputs": [],
   "source": [
    "# Test here\n",
    "try:\n",
    "    assert(kitty_censor(\"This dog says miauw\") == 'This cat says miauw')\n",
    "    assert(kitty_censor(\"This woof was better than the miauw\") == 'This maiuw was ****** than the miauw')\n",
    "    print(\"Passed, and you got the following part of the puzzle: \", '|\\__/,|   (`\\\\')\n",
    "    kittypuzzle = ' |\\__/,|   (`\\\\'\n",
    "\n",
    "except:\n",
    "    print(\"Failed\")"
   ]
  },
  {
   "cell_type": "code",
   "execution_count": null,
   "metadata": {},
   "outputs": [],
   "source": [
    "# Example solutions\n",
    "\n",
    "def kitty_censor(sentence):\n",
    "    sentence = sentence.replace(\"dog\", \"cat\")\n",
    "    sentence = sentence.replace(\"woof\", \"maiuw\")\n",
    "    return \" \".join(\"*\" * len(s) if len(s) > 5 else s for s in sentence.split())\n"
   ]
  },
  {
   "cell_type": "markdown",
   "metadata": {},
   "source": [
    "# Median Kitty\n",
    "\n",
    "![](images/20221222190319.png)  \n",
    "\n",
    "The Kitties over at the statistics department really want to add to their statistical library. Could you design them a function that gives the MEDIAN of a range of numbers? This is the MIDDLE number, as you may know. Also, if there's an uneven amount of numbers, the median becomes the average of the middle two numbers, rounded to 1 decimal.\n",
    "\n",
    "```python\n",
    "Examples:\n",
    "median([1, 2, 4, 5, 6, 8, 8, 8, 10]) ➞ 6\n",
    "median([2, 2, 6, 8, 8, 10, 10]) ➞ 8\n",
    "median([1, 2, 2, 4, 7, 8, 9, 10]) ➞ 5.5\n",
    "```"
   ]
  },
  {
   "cell_type": "code",
   "execution_count": null,
   "metadata": {},
   "outputs": [],
   "source": [
    "# Work here\n",
    "\n",
    "def median(nums):\n"
   ]
  },
  {
   "cell_type": "code",
   "execution_count": null,
   "metadata": {},
   "outputs": [],
   "source": [
    "# test here\n",
    "\n",
    "class Test():\n",
    "    def assert_equals(a, b):\n",
    "        return a == b\n",
    "\n",
    "\n",
    "try:\n",
    "    Test.assert_equals(median([3, 4, 4, 5, 6, 8]), 4.5)\n",
    "    Test.assert_equals(median([1, 4, 4, 9, 9, 10]), 6.5)\n",
    "    Test.assert_equals(median([1, 2, 4, 4, 4, 7, 7, 9, 10]), 4)\n",
    "    Test.assert_equals(median([1, 7, 8, 8, 10, 10, 10]), 8)\n",
    "    Test.assert_equals(median([2, 3, 3, 3, 3, 5]), 3.0)\n",
    "    Test.assert_equals(median([1, 1, 3, 4, 6, 6, 6, 7, 10]), 6)\n",
    "    Test.assert_equals(median([3, 4, 6, 6, 6, 7, 9, 10, 10]), 6)\n",
    "    Test.assert_equals(median([3, 3, 4, 5, 6, 6, 7, 9]), 5.5)\n",
    "    Test.assert_equals(median([3, 4, 4, 6, 9, 9, 9]), 6)\n",
    "    Test.assert_equals(median([3, 4, 4, 5, 7, 8]), 4.5)\n",
    "    Test.assert_equals(median([2, 4, 4, 5, 5, 8, 8, 9, 10]), 5)\n",
    "    Test.assert_equals(median([4, 5, 5, 6, 8, 10]), 5.5)\n",
    "    Test.assert_equals(median([1, 4, 4, 5, 8, 9]), 4.5)\n",
    "    Test.assert_equals(median([1, 4, 8, 8, 8, 8, 9, 10]), 8.0)\n",
    "    Test.assert_equals(median([1, 1, 2, 2, 10, 10]), 2.0)\n",
    "    Test.assert_equals(median([3, 4, 4, 5, 7, 8, 9]), 5)\n",
    "    Test.assert_equals(median([1, 1, 2, 2, 2, 4, 5, 6, 8]), 2)\n",
    "    Test.assert_equals(median([2, 4, 5, 5, 7, 7, 9, 10]), 6.0)\n",
    "    Test.assert_equals(median([1, 3, 4, 8, 8, 10, 10]), 8)\n",
    "    Test.assert_equals(median([1, 1, 4, 5, 5, 9, 9, 10]), 5.0)\n",
    "    puzzlepart = \" |_ _  |.--.) )\"\n",
    "    kittypuzzle2 = kittypuzzle + \"\\n\" + puzzlepart \n",
    "    print(\"Passed, and you got the following part of the puzzle: \", puzzlepart)\n",
    "except:\n",
    "    print(\"Failed\")"
   ]
  },
  {
   "cell_type": "code",
   "execution_count": 21,
   "metadata": {},
   "outputs": [],
   "source": [
    "# Example solutions\n",
    "def median(nums):\n",
    "\tm = len(nums)//2\n",
    "\treturn (nums[-(m+1)] + nums[m])/2\n",
    "\n",
    "def median(nums):\n",
    "\tmedian = 0\n",
    "\tif len(nums) % 2 == 0:\n",
    "\t\tmedian = (nums[(len(nums) // 2) - 1] + nums[len(nums) // 2]) / 2\n",
    "\telse:\n",
    "\t\tmedian = nums[(len(nums) // 2)]\n",
    "\treturn median"
   ]
  },
  {
   "cell_type": "markdown",
   "metadata": {},
   "source": [
    "# Hidden ball kitty\n",
    "\n",
    "![](images/20221222191115.png)  \n",
    "\n",
    "This kitty has a fun little game, ball in a cup! He places a ball under cup B, out of A, B and C. \n",
    "\n",
    "![](images/20221222190548.png)  \n",
    "\n",
    "Then, he performs several swaps and asks you under which cup the ball is. Since you need some money, you decide to make a function that remembers where the ball is, so you can win his game. At the end, he'll surely give you another puzzle piece!\n",
    "\n",
    "Examples\n",
    "\n",
    "```python\n",
    "cup_swapping([\"AB\", \"CA\"]) ➞ \"C\"\n",
    "cup_swapping([\"AC\", \"CA\", \"CA\", \"AC\"]) ➞ \"B\"\n",
    "cup_swapping([\"BA\", \"AC\", \"CA\", \"BC\"]) ➞ \"A\"\n",
    "```"
   ]
  },
  {
   "cell_type": "code",
   "execution_count": null,
   "metadata": {},
   "outputs": [],
   "source": [
    "# work here\n",
    "\n",
    "def cup_swapping(swaps):\n",
    "\t"
   ]
  },
  {
   "cell_type": "code",
   "execution_count": null,
   "metadata": {},
   "outputs": [],
   "source": [
    "# Test here\n",
    "\n",
    "class Test():\n",
    "    def assert_equals(a, b):\n",
    "        return a == b\n",
    "\n",
    "\n",
    "try:\n",
    "    Test.assert_equals(cup_swapping(['AB', 'CA']), 'C')\n",
    "    Test.assert_equals(cup_swapping(['AB', 'CA', 'AB']), 'C')\n",
    "    Test.assert_equals(cup_swapping(['AC', 'CA', 'CA', 'AC']), 'B')\n",
    "    Test.assert_equals(cup_swapping(['BA', 'AC', 'CA', 'BC']), 'A')\n",
    "    Test.assert_equals(cup_swapping(['BC', 'CB', 'CA', 'BA']), 'A')\n",
    "    Test.assert_equals(cup_swapping(['BC']), 'C')\n",
    "    Test.assert_equals(cup_swapping(['BA', 'CA', 'CB', 'CA']), 'B')\n",
    "    Test.assert_equals(cup_swapping([]), 'B')\n",
    "    puzzlepiece = \" ( T   )     /\"\n",
    "    kittypuzzle3 = kittypuzzle2 + \"\\n\" + puzzlepiece\n",
    "    print(\"Passed, your puzzlepiece: \", puzzlepiece)\n",
    "except:\n",
    "    print(\"Failed\")\n",
    "    "
   ]
  },
  {
   "cell_type": "code",
   "execution_count": 46,
   "metadata": {},
   "outputs": [],
   "source": [
    "# Example solutions\n",
    "def cup_swapping(swaps):\n",
    "    ball = \"B\"\n",
    "    for move in swaps:\n",
    "        if ball in move:\n",
    "            ball = move[1] if move[0] == ball else move[0]\n",
    "    return ball\n",
    "\n",
    "def cup_swapping(swaps):\n",
    "    cup = 'B'\n",
    "\n",
    "    for i in range(len(swaps)):\n",
    "        if cup == swaps[i][0]:\n",
    "            cup = swaps[i][1]\n",
    "        elif cup == swaps[i][1]:\n",
    "            cup = swaps[i][0]\n",
    "    return cup"
   ]
  },
  {
   "cell_type": "markdown",
   "metadata": {},
   "source": [
    "# Old Painter kitty\n",
    "\n",
    "![](images/20221222191904.png)  \n",
    "\n",
    "\n",
    "This kitty loves to paint, and he wants you to make a function that returns an empty picture frame in 2D. This function takes the width, height and character (like \"*\") and returns a picture frame as a 2D list.\n",
    "\n",
    "Examples:\n",
    "```python\n",
    "\n",
    "get_frame(4, 5, \"#\") ➞ [\n",
    "  [\"####\"],\n",
    "  [\"#  #\"],\n",
    "  [\"#  #\"],\n",
    "  [\"#  #\"],\n",
    "  [\"####\"]\n",
    "]\n",
    "# Frame is 4 characters wide and 5 characters tall.\n",
    "\n",
    "get_frame(10, 3, \"*\") ➞ [\n",
    "  [\"**********\"],\n",
    "  [\"*        *\"],\n",
    "  [\"**********\"]\n",
    "]\n",
    "# Frame is 10 characters and wide and 3 characters tall.\n",
    "\n",
    "get_frame(2, 5, \"0\") ➞ \"invalid\"\n",
    "# Frame's width is not more than 2.\n",
    "```\n",
    "\n",
    "Notes:\n",
    "* Remember the gap.\n",
    "* Return \"invalid\" if width or height is 2 or less (can't put anything inside)."
   ]
  },
  {
   "cell_type": "code",
   "execution_count": null,
   "metadata": {},
   "outputs": [],
   "source": [
    "# Work here\n",
    "\n",
    "def get_frame(w, h, ch):\n",
    "\t"
   ]
  },
  {
   "cell_type": "code",
   "execution_count": null,
   "metadata": {},
   "outputs": [],
   "source": [
    "# test here\n",
    "\n",
    "class Test():\n",
    "    def assert_equals(a, b):\n",
    "        return a == b\n",
    "\n",
    "\n",
    "try:\n",
    "    Test.assert_equals(get_frame(3, 3, \"0\"), [\n",
    "        [\"000\"],\n",
    "        [\"0 0\"],\n",
    "        [\"000\"]\n",
    "    ])\n",
    "\n",
    "    Test.assert_equals(get_frame(4, 5, \"#\"), [\n",
    "        [\"####\"],\n",
    "        [\"#  #\"],\n",
    "        [\"#  #\"],\n",
    "        [\"#  #\"],\n",
    "        [\"####\"]\n",
    "    ])\n",
    "\n",
    "    Test.assert_equals(get_frame(10, 3, \"*\"), [\n",
    "        [\"**********\"],\n",
    "        [\"*        *\"],\n",
    "        [\"**********\"]\n",
    "    ])\n",
    "\n",
    "    Test.assert_equals(get_frame(2, 5, \"0\"), \"invalid\")\n",
    "\n",
    "    puzzlepiece = \"(((^_(((/(((_/\"\n",
    "    reward = kittypuzzle3 + \"\\n\" + puzzlepiece\n",
    "    print(\"Passed, your final puzzlepiece: \", puzzlepiece)\n",
    "    print(\"\\n\\n!!!Print the final puzzle using print(reward)!!!\")\n",
    "except:\n",
    "    print(\"Failed\")"
   ]
  },
  {
   "cell_type": "code",
   "execution_count": 51,
   "metadata": {},
   "outputs": [],
   "source": [
    "# Example solutions\n",
    "def get_frame(w, h, ch):\n",
    "    if w <= 2 or h <= 2:\n",
    "        return 'invalid'\n",
    "    head = ch*w\n",
    "    side = ch + ' '*(w-2) + ch\n",
    "    return [[i] for i in [head] + [side]*(h-2) + [head]]\n",
    "\n",
    "def get_frame(w, h, ch):\n",
    "\tif w < 3 or h < 3:\n",
    "\t\treturn \"invalid\"\n",
    "\tmatrix = []\n",
    "\tmatrix.append([w * ch])\n",
    "\tfor i in range(h-2):\n",
    "\t\tmatrix.append([ch + ((w-2) * \" \") + ch])\n",
    "\tmatrix.append([w * ch])\n",
    "\treturn matrix"
   ]
  }
 ],
 "metadata": {
  "kernelspec": {
   "display_name": "Python 3.10.6 64-bit",
   "language": "python",
   "name": "python3"
  },
  "language_info": {
   "codemirror_mode": {
    "name": "ipython",
    "version": 3
   },
   "file_extension": ".py",
   "mimetype": "text/x-python",
   "name": "python",
   "nbconvert_exporter": "python",
   "pygments_lexer": "ipython3",
   "version": "3.10.6"
  },
  "orig_nbformat": 4,
  "vscode": {
   "interpreter": {
    "hash": "4ebb652c7e935075b0a422c0d1b433309994f32ed4cfc553b7cfde93326650e0"
   }
  }
 },
 "nbformat": 4,
 "nbformat_minor": 2
}
