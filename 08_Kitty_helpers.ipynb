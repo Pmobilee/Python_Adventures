{
 "cells": [
  {
   "cell_type": "markdown",
   "metadata": {},
   "source": [
    "# In this part of our adventure, we'll help the local kitty IT department. Your tasks will be given by individial kitties"
   ]
  },
  {
   "cell_type": "markdown",
   "metadata": {},
   "source": [
    "## 1. The stuttering kitty\n",
    "\n",
    "![](images/20221206141105.png)  \n",
    "\n",
    "He.. hey! Co.. could you help me write two functions? O.. one that will make a normal word stuttered. A.. and another one that will take a stuttered word, and make it normal."
   ]
  },
  {
   "cell_type": "markdown",
   "metadata": {},
   "source": [
    "Stuttering sentence: Write a function that stutters a word as if someone is struggling to read it. The first two letters are repeated twice, with \"...\" and space after each, and then the word is pronounced with a question mark -> ?.\n",
    "\n",
    "Example:\n",
    "\n",
    "stutter(\"incredible\") ➞ \"in... in... incredible?\"\n",
    "\n",
    "stutter(\"enthusiastic\") ➞ \"en... en... enthusiastic?\"\n",
    "\n",
    "stutter(\"outstanding\") ➞ \"ou... ou... outstanding?\""
   ]
  },
  {
   "cell_type": "code",
   "execution_count": 5,
   "metadata": {},
   "outputs": [],
   "source": [
    "def stutter(word):\n",
    "    "
   ]
  },
  {
   "cell_type": "code",
   "execution_count": null,
   "metadata": {},
   "outputs": [],
   "source": [
    "# test your function here:\n",
    "actual_param, expected_param = [\n",
    "\t\"increasing\", \"adventures\", \"enticing\", \"unacceptable\", \"accountable\", \"incredible\", \"exquisite\",\n",
    "\t\"am\", \"enduring\", \"outstanding\", \"astonishing\", \"astounding\", \"impressive\", \"revolutionize\",\n",
    "\t\"recurring\", \"recollection\", \"so\", \"gorgeous\", \"captivating\"\n",
    "], [\n",
    "\t\"in... in... increasing?\", \"ad... ad... adventures?\", \"en... en... enticing?\", \"un... un... unacceptable?\",\n",
    "    \"ac... ac... accountable?\", \"in... in... incredible?\", \"ex... ex... exquisite?\", \"am... am... am?\",\n",
    "    \"en... en... enduring?\", \"ou... ou... outstanding?\", \"as... as... astonishing?\", \"as... as... astounding?\",\n",
    "    \"im... im... impressive?\", \"re... re... revolutionize?\", \"re... re... recurring?\", \"re... re... recollection?\",\n",
    "    \"so... so... so?\", \"go... go... gorgeous?\", \"ca... ca... captivating?\",\n",
    "]\n",
    "for i, w in enumerate(actual_param):\n",
    "    try:\n",
    "        assert(stutter(w) == expected_param[i])\n",
    "        print(\"test passed\")\n",
    "    except:\n",
    "        print(\"test failed\")\n",
    "        break\n"
   ]
  },
  {
   "cell_type": "code",
   "execution_count": 12,
   "metadata": {},
   "outputs": [],
   "source": [
    "# Example solutions\n",
    "\n",
    "def stutter(word):\n",
    "\treturn '{0}... {0}... {1}?'.format(word[:2], word)\n",
    "\n",
    "def stutter(word):\n",
    "\treturn word[0:2] + '... ' + word[0:2] + '... ' + word + '?'\n",
    "\n",
    "stutter = lambda w: '{}... {}... {}?'.format(w[:2], w[:2], w)\n"
   ]
  },
  {
   "cell_type": "markdown",
   "metadata": {},
   "source": [
    "Great, now make me one that does the opposite:\n",
    "\n",
    "Example:\n",
    "\n",
    "stutter(\"in... in... incredible?\") ➞ \"incredible\"\n",
    "\n",
    "stutter(\"en... en... enthusiastic?\") ➞ \"enthusiastic\"\n",
    "\n",
    "stutter(\"ou... ou... outstanding?\") ➞ \"outstanding\""
   ]
  },
  {
   "cell_type": "code",
   "execution_count": null,
   "metadata": {},
   "outputs": [],
   "source": [
    "def anti_stutter(word):\n",
    "     "
   ]
  },
  {
   "cell_type": "code",
   "execution_count": null,
   "metadata": {},
   "outputs": [],
   "source": [
    "# test your function here:\n",
    "actual_param, expected_param = [\n",
    "\t\"increasing\", \"adventures\", \"enticing\", \"unacceptable\", \"accountable\", \"incredible\", \"exquisite\",\n",
    "\t\"am\", \"enduring\", \"outstanding\", \"astonishing\", \"astounding\", \"impressive\", \"revolutionize\",\n",
    "\t\"recurring\", \"recollection\", \"so\", \"gorgeous\", \"captivating\"\n",
    "], [\n",
    "\t\"in... in... increasing?\", \"ad... ad... adventures?\", \"en... en... enticing?\", \"un... un... unacceptable?\",\n",
    "    \"ac... ac... accountable?\", \"in... in... incredible?\", \"ex... ex... exquisite?\", \"am... am... am?\",\n",
    "    \"en... en... enduring?\", \"ou... ou... outstanding?\", \"as... as... astonishing?\", \"as... as... astounding?\",\n",
    "    \"im... im... impressive?\", \"re... re... revolutionize?\", \"re... re... recurring?\", \"re... re... recollection?\",\n",
    "    \"so... so... so?\", \"go... go... gorgeous?\", \"ca... ca... captivating?\",\n",
    "]\n",
    "for i, w in enumerate(actual_param):\n",
    "    try:\n",
    "        assert(anti_stutter(expected_param[i]) == w)\n",
    "        print(\"test passed\")\n",
    "    except:\n",
    "        print(\"test failed\")\n",
    "        break\n"
   ]
  },
  {
   "cell_type": "code",
   "execution_count": null,
   "metadata": {},
   "outputs": [],
   "source": [
    "# Example solution:\n",
    "def anti_stutter(word):\n",
    "    # Take the last part (\"increasing?\"), then take everything\n",
    "    # except the last letter (\"?\"):\n",
    "    word = word.split(\" \")[-1][0:-1]\n",
    "    return word\n",
    "\n",
    "\n",
    "anti_stutter(\"in... in... increasing?\")"
   ]
  },
  {
   "cell_type": "markdown",
   "metadata": {},
   "source": [
    "## 2. Star Wars kitty\n",
    "\n",
    "![](images/20221206141257.png)  \n",
    "\n",
    "This kitty is a huge star wars fan. That's why he wants you to make a function that prints out what a character's relationship is towards luke. Remember the famous line by Darth Vader: \"Luke, I am your father\".\n",
    "\n",
    "Example:\n",
    "\n",
    "relation_to_luke(\"Darth Vader\") ➞ \"Luke, I am your father.\"\n",
    "\n",
    "relation_to_luke(\"Leia\") ➞ \"Luke, I am your sister.\"\n",
    "\n",
    "relation_to_luke(\"Han\") ➞ \"Luke, I am your brother in law.\"\n",
    "\n",
    "You'll be given the string of a name, the function must return the following relationships:\n",
    "\n",
    "\n",
    "\n",
    "| Person      | Relation |\n",
    "| ----------- | ----------- |\n",
    "| Darth Vader      | father      |\n",
    "| Leia   | sister        |\n",
    "| Han   | brother in law        |\n",
    "| R2D2   | droid        |"
   ]
  },
  {
   "cell_type": "code",
   "execution_count": null,
   "metadata": {},
   "outputs": [],
   "source": [
    "def relation_to_luke(name):\n",
    "    "
   ]
  },
  {
   "cell_type": "code",
   "execution_count": null,
   "metadata": {},
   "outputs": [],
   "source": [
    "# Test your function here\n",
    "\n",
    "try:\n",
    "    assert(relation_to_luke(\"Darth Vader\") ==\"Luke, I am your father.\")\n",
    "    assert(relation_to_luke(\"Leia\") == \"Luke, I am your sister.\")\n",
    "    assert(relation_to_luke(\"Han\") == \"Luke, I am your brother in law.\")\n",
    "    assert(relation_to_luke(\"R2D2\") == \"Luke, I am your droid.\")\n",
    "    print(\"Tests passed\")\n",
    "except:\n",
    "    print(\"Tests failed\")\n"
   ]
  },
  {
   "cell_type": "code",
   "execution_count": 17,
   "metadata": {},
   "outputs": [],
   "source": [
    "# Example solutions\n",
    "\n",
    "def relation_to_luke(name):\n",
    "\tdict = {\n",
    "\t\t'Darth Vader' : 'father',\n",
    "\t\t'Leia' : 'sister',\n",
    "\t\t'Han' : 'brother in law',\n",
    "\t\t'R2D2' : 'droid'\n",
    "\t}\n",
    "\treturn 'Luke, I am your ' + dict[name] + '.'\n",
    "\n",
    "\n",
    "def relation_to_luke(name):\n",
    "  return \"Luke, I am your \"+ {\"Darth Vader\":\"father.\",\"Leia\":\"sister.\",\"Han\":\"brother in law.\",\"R2D2\":\"droid.\"}[name]\n",
    "\n"
   ]
  },
  {
   "cell_type": "markdown",
   "metadata": {},
   "source": [
    "##  3. Christmas Kitty\n",
    "\n",
    "![](images/20221206141426.png)  \n",
    "\n",
    "The following kitty really really wants it to be christmas, but he wants to stop bothering his mom all the time, asking if it's christmas yet. Could you make him a function that takes a Date object and returns True if it's Christmas Eve (December 24th) and False otherwise.\n",
    "\n",
    "Examples\n",
    "\n",
    "time_for_milk_and_cookies(datetime.date(2013, 12, 24)) ➞ True\n",
    "\n",
    "time_for_milk_and_cookies(datetime.date(2013, 1, 23)) ➞ False\n",
    "\n",
    "time_for_milk_and_cookies(datetime.date(3000, 12, 24)) ➞ True\n",
    "\n",
    "You won't get any hints on datetime objects, since you are now a developer and must google things yourself."
   ]
  },
  {
   "cell_type": "code",
   "execution_count": 41,
   "metadata": {},
   "outputs": [],
   "source": [
    "import datetime\n",
    "\n",
    "def time_for_milk_and_cookies(date):\n",
    "    \n"
   ]
  },
  {
   "cell_type": "code",
   "execution_count": null,
   "metadata": {},
   "outputs": [],
   "source": [
    "# Test your function\n",
    "import datetime\n",
    "\n",
    "try:\n",
    "    assert(time_for_milk_and_cookies(datetime.date(2013, 12, 24)) == True)\n",
    "    assert(time_for_milk_and_cookies(datetime.date(3000, 12, 24)) == True)\n",
    "    assert(time_for_milk_and_cookies(datetime.date(2013, 1, 23)) == False)\n",
    "    assert(time_for_milk_and_cookies(datetime.date(2010, 11, 2)) == False)\n",
    "    assert(time_for_milk_and_cookies(datetime.date(1980, 9, 24)) == False)\n",
    "    print(\"Passed\")\n",
    "except:\n",
    "    print(\"Failed\")\n"
   ]
  },
  {
   "cell_type": "code",
   "execution_count": null,
   "metadata": {},
   "outputs": [],
   "source": [
    "# Example solutions\n",
    "\n",
    "def time_for_milk_and_cookies(date):\n",
    "    return (date.day==24 and date.month==12)\n"
   ]
  },
  {
   "cell_type": "markdown",
   "metadata": {},
   "source": [
    "## 4. Stupid Kitty\n",
    "\n",
    "![](images/20221206141549.png)  \n",
    "\n",
    "This next kitty doesn't know that python has a sorted() function to sort lists directly! He wants you to make a function that takes a list of numbers, and sorts them from low to high, WITHOUT using sorted().\n",
    "\n",
    "Because this is a stupid kitty and maybe a little difficult, it's perfectly fine to ignore the kitty, make him sad, send him home, and continue with the next kitty"
   ]
  },
  {
   "cell_type": "code",
   "execution_count": null,
   "metadata": {},
   "outputs": [],
   "source": [
    "def sort_numbers(number_list):\n",
    "        \n",
    "\n",
    "\n",
    "number_list = [0, 9, 55, 4, 23, 66, 32, 5, 3]\n",
    "\n",
    "sort_numbers(number_list)"
   ]
  },
  {
   "cell_type": "code",
   "execution_count": null,
   "metadata": {},
   "outputs": [],
   "source": [
    "# Example solution\n",
    "\n",
    "number_list = [0, 9, 55, 4, 23, 66, 32, 5, 3]\n",
    "\n",
    "def sort_numbers(number_list):\n",
    "    sorted_num_list = []\n",
    "    while True:\n",
    "        # if the number_list is empty, we dont need to sort anymore\n",
    "        if len(number_list) == 0:\n",
    "            return sorted_num_list\n",
    "        # Otherwise, just take the first element as the lowest for now\n",
    "        lowest = number_list[0]\n",
    "\n",
    "        # Check if anything is lower than that\n",
    "        for i in range(len(number_list)):\n",
    "            if number_list[i] <= lowest:\n",
    "                lowest = number_list[i]\n",
    "        \n",
    "        # We add that number to our sorted list, and remove from the original\n",
    "        sorted_num_list.append(lowest)\n",
    "        number_list.remove(lowest)\n",
    "\n",
    "sort_numbers(number_list)"
   ]
  },
  {
   "cell_type": "markdown",
   "metadata": {},
   "source": [
    "## 5. Playful kitties\n",
    "\n",
    "![](images/20221206141721.png)  \n",
    "\n",
    "This next kitties really likes silly games, especially rock paper scissors.\n",
    "\n",
    "Create a function which takes two strings (p1 and p2 ⁠— which represent player 1 and 2) as arguments and returns a string stating the winner in a game of Rock, Paper, Scissors.\n",
    "\n",
    "If p1 wins, return the string \"The winner is p1\". If p2 wins, return the string \"The winner is p2\" and if p1 and p2 are the same, return \"It's a draw\".\n",
    "\n",
    "\n",
    "-------------\n",
    "-------------\n",
    "\n",
    "Examples:\n",
    "\n",
    "rps(\"Rock\", \"Paper\") ➞ \"The winner is p2\"\n",
    "\n",
    "rps(\"Scissors\", \"Paper\") ➞ \"The winner is p1\"\n",
    "\n",
    "rps(\"Paper\", \"Paper\") ➞ \"It's a draw\""
   ]
  },
  {
   "cell_type": "code",
   "execution_count": null,
   "metadata": {},
   "outputs": [],
   "source": [
    "def rps(p1, p2):\n",
    "\t"
   ]
  },
  {
   "cell_type": "code",
   "execution_count": null,
   "metadata": {},
   "outputs": [],
   "source": [
    "# Example solutions\n",
    "\n",
    "def rps(p1, p2):\n",
    "\tif p1 == p2:\n",
    "\t\treturn \"It's a draw\"\n",
    "\telif(p1 == \"Rock\" and p2 == \"Scissors\") or (p1 == \"Paper\" and p2 == \"Rock\") or (p1 == \"Scissors\" and p2 == \"Paper\"):\n",
    "\t\treturn \"The winner is p1\"\n",
    "\telse:\n",
    "\t\treturn \"The winner is p2\"\n",
    "\n",
    "def rps(p1,p2):\n",
    "\tv = {'Rock':1, 'Paper':2, 'Scissors':3}\n",
    "\treturn [\"It's a draw\", 'The winner is p1', 'The winner is p2'][v[p1]-v[p2]]"
   ]
  },
  {
   "cell_type": "markdown",
   "metadata": {},
   "source": [
    "## 6. Kitty Hangman!\n",
    "\n",
    "![](images/20221206142127.png)  \n",
    "\n",
    "Create a function that, given a phrase and a number of letters guessed, returns a string with hyphens - for every letter of the phrase not guessed, and each letter guessed in place.\n",
    "\n",
    "Examples:\n",
    "\n",
    "\n",
    "hangman(\"helicopter\", [\"o\", \"e\", \"s\"]) ➞ \"-e---o--e-\"\n",
    "\n",
    "hangman(\"tree\", [\"r\", \"t\", \"e\"]) ➞ \"tree\"\n",
    "\n",
    "hangman(\"python\", [\"a\", \"n\", \"p\", \"r\", \"z\"]) ➞ \"P----n\"\n",
    "\n",
    "\n",
    "\n"
   ]
  },
  {
   "cell_type": "code",
   "execution_count": null,
   "metadata": {},
   "outputs": [],
   "source": []
  }
 ],
 "metadata": {
  "kernelspec": {
   "display_name": "Python 3.10.7 64-bit",
   "language": "python",
   "name": "python3"
  },
  "language_info": {
   "codemirror_mode": {
    "name": "ipython",
    "version": 3
   },
   "file_extension": ".py",
   "mimetype": "text/x-python",
   "name": "python",
   "nbconvert_exporter": "python",
   "pygments_lexer": "ipython3",
   "version": "3.10.7"
  },
  "orig_nbformat": 4,
  "vscode": {
   "interpreter": {
    "hash": "26de051ba29f2982a8de78e945f0abaf191376122a1563185a90213a26c5da77"
   }
  }
 },
 "nbformat": 4,
 "nbformat_minor": 2
}
